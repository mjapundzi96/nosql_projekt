{
 "cells": [
  {
   "cell_type": "code",
   "execution_count": 19,
   "id": "68dadb7e-f1a0-4264-82b7-b7df5b15b3a8",
   "metadata": {},
   "outputs": [
    {
     "name": "stderr",
     "output_type": "stream",
     "text": [
      "[nltk_data] Downloading package punkt to\n",
      "[nltk_data]     C:\\Users\\Maks\\AppData\\Roaming\\nltk_data...\n",
      "[nltk_data]   Package punkt is already up-to-date!\n",
      "[nltk_data] Downloading package wordnet to\n",
      "[nltk_data]     C:\\Users\\Maks\\AppData\\Roaming\\nltk_data...\n",
      "[nltk_data]   Package wordnet is already up-to-date!\n",
      "[nltk_data] Downloading package stopwords to\n",
      "[nltk_data]     C:\\Users\\Maks\\AppData\\Roaming\\nltk_data...\n",
      "[nltk_data]   Package stopwords is already up-to-date!\n",
      "[nltk_data] Downloading package brown to\n",
      "[nltk_data]     C:\\Users\\Maks\\AppData\\Roaming\\nltk_data...\n",
      "[nltk_data]   Package brown is already up-to-date!\n",
      "[nltk_data] Downloading package averaged_perceptron_tagger to\n",
      "[nltk_data]     C:\\Users\\Maks\\AppData\\Roaming\\nltk_data...\n",
      "[nltk_data]   Package averaged_perceptron_tagger is already up-to-\n",
      "[nltk_data]       date!\n",
      "[nltk_data] Downloading package omw-1.4 to\n",
      "[nltk_data]     C:\\Users\\Maks\\AppData\\Roaming\\nltk_data...\n",
      "[nltk_data]   Package omw-1.4 is already up-to-date!\n"
     ]
    }
   ],
   "source": [
    "#Svi importovi\n",
    "import nltk\n",
    "import subprocess\n",
    "import nltk.corpus  \n",
    "from nltk import sent_tokenize, word_tokenize\n",
    "from nltk.corpus import stopwords, brown\n",
    "from collections import Counter\n",
    "from nltk.text import Text \n",
    "import os\n",
    "nltk.download('punkt')\n",
    "nltk.download('wordnet')\n",
    "nltk.download('stopwords')\n",
    "nltk.download('brown')\n",
    "nltk.download('averaged_perceptron_tagger')\n",
    "nltk.download('omw-1.4')\n",
    "path_to_gs = \"C:\\Program Files\\gs\\gs9.56.1\"\n",
    "os.environ['PATH']+=os.pathsep + path_to_gs"
   ]
  },
  {
   "cell_type": "code",
   "execution_count": 4,
   "id": "382ce3c1-8228-4e32-affc-665bd93c5203",
   "metadata": {},
   "outputs": [],
   "source": [
    "# Učitavanje knjige\n",
    "book = open(\"godfather.txt\", \"r\", encoding = \"UTF-8\")\n",
    "book_txt = book.read()"
   ]
  },
  {
   "cell_type": "code",
   "execution_count": 8,
   "id": "173931b4-ebb7-4366-965e-97ff8a322d7a",
   "metadata": {},
   "outputs": [
    {
     "name": "stdout",
     "output_type": "stream",
     "text": [
      "amerigo bonasera sat in new york criminal court number 3 and waited for justice; vengeance on the men who had so cruelly hurt his daughter, who had tried to dishonor her.\n",
      "\n",
      "the judge, a formidably heavy-featured man, rolled up the sleeves of his black robe as if to physically chastise the two young m\n"
     ]
    }
   ],
   "source": [
    "#1. Normalizacija\n",
    "book_lowercase = book_txt.lower()\n",
    "print(book_lowercase[0:300])"
   ]
  },
  {
   "cell_type": "code",
   "execution_count": 105,
   "id": "c5bd7e8b-1fc9-4876-b0ca-1103c2fa1f32",
   "metadata": {},
   "outputs": [
    {
     "name": "stdout",
     "output_type": "stream",
     "text": [
      "Broj rečenica:  4919\n",
      "Broj tokena:  69630\n"
     ]
    }
   ],
   "source": [
    "#2. Tokenizacija\n",
    "book_tokenized = sent_tokenize(book_lowercase)\n",
    "print('Broj rečenica: ', len(book_tokenized))\n",
    "\n",
    "book_tokens = word_tokenize(book_lowercase)\n",
    "print('Broj tokena: ', len(book_tokens))"
   ]
  },
  {
   "cell_type": "code",
   "execution_count": 11,
   "id": "f05b1559-76f3-493f-9faf-43baaec5d333",
   "metadata": {},
   "outputs": [
    {
     "name": "stdout",
     "output_type": "stream",
     "text": [
      "Ukupan broj tokena bez ne-alfanumeričkih znakova:  58135\n"
     ]
    }
   ],
   "source": [
    "#3. Pročišćavanje teksta\n",
    "book_tokens_clean = [word for word in book_tokens if word.isalpha()]\n",
    "print('Broj tokena nakon pročišćavanja: ', len(book_tokens_clean))"
   ]
  },
  {
   "cell_type": "code",
   "execution_count": 15,
   "id": "3d16f832-0dbe-4f80-b434-778a292918f3",
   "metadata": {},
   "outputs": [
    {
     "name": "stdout",
     "output_type": "stream",
     "text": [
      "['amerigo', 'bonasera', 'sat', 'in', 'new', 'york', 'crimin', 'court', 'number', 'and', 'wait', 'for', 'justic', 'vengeanc', 'on', 'the', 'men', 'who', 'had', 'so', 'cruelli', 'hurt', 'hi', 'daughter', 'who', 'had', 'tri', 'to', 'dishonor', 'her', 'the', 'judg', 'a', 'formid', 'man', 'roll', 'up', 'the', 'sleev', 'of', 'hi', 'black', 'robe', 'as', 'if', 'to', 'physic', 'chastis', 'the', 'two', 'young', 'men', 'stand', 'befor', 'the', 'bench', 'hi', 'face', 'wa', 'cold', 'with', 'majest', 'contempt', 'but', 'there', 'wa', 'someth', 'fals', 'in', 'all', 'thi', 'that', 'amerigo', 'bonasera', 'sens', 'but', 'did', 'not', 'yet', 'understand', 'you', 'act', 'like', 'the', 'worst', 'kind', 'of', 'degener', 'the', 'judg', 'said', 'harshli', 'ye', 'ye', 'thought', 'amerigo', 'bonasera', 'anim', 'anim', 'the']\n"
     ]
    }
   ],
   "source": [
    "#4. Stemming\n",
    "book_stemmed = []\n",
    "ps = nltk.PorterStemmer()\n",
    "for word in book_tokens_clean:\n",
    "    book_stemmed.append(ps.stem(word))\n",
    "    \n",
    "print(book_stemmed[0:100])"
   ]
  },
  {
   "cell_type": "code",
   "execution_count": 21,
   "id": "1802e2d2-45ad-495b-aa03-f3e9b91e762c",
   "metadata": {},
   "outputs": [
    {
     "name": "stdout",
     "output_type": "stream",
     "text": [
      "['amerigo', 'bonasera', 'sat', 'in', 'new', 'york', 'criminal', 'court', 'number', 'and', 'waited', 'for', 'justice', 'vengeance', 'on', 'the', 'men', 'who', 'had', 'so', 'cruelly', 'hurt', 'his', 'daughter', 'who', 'had', 'tried', 'to', 'dishonor', 'her', 'the', 'judge', 'a', 'formidably', 'man', 'rolled', 'up', 'the', 'sleeve', 'of', 'his', 'black', 'robe', 'a', 'if', 'to', 'physically', 'chastise', 'the', 'two']\n"
     ]
    }
   ],
   "source": [
    "#5. Lematizacija\n",
    "wnl = nltk.WordNetLemmatizer()\n",
    "book_lemmatized = []\n",
    "for word in book_tokens_clean:\n",
    "    book_lemmatized.append(wnl.lemmatize(word))\n",
    "\n",
    "print(book_lemmatized[0:50])"
   ]
  },
  {
   "cell_type": "code",
   "execution_count": 27,
   "id": "68810157-4fe4-482a-9c3b-e5a2c3b10aad",
   "metadata": {},
   "outputs": [
    {
     "name": "stdout",
     "output_type": "stream",
     "text": [
      "['amerigo', 'bonasera', 'sat', 'new', 'york', 'criminal', 'court', 'number', 'waited', 'justice', 'vengeance', 'men', 'cruelly', 'hurt', 'daughter', 'tried', 'dishonor', 'judge', 'formidably', 'man', 'rolled', 'sleeve', 'black', 'robe', 'physically', 'chastise', 'two', 'young', 'men', 'standing', 'bench', 'face', 'wa', 'cold', 'majestic', 'contempt', 'wa', 'something', 'false', 'amerigo', 'bonasera', 'sensed', 'yet', 'understand', 'acted', 'like', 'worst', 'kind', 'degenerate', 'judge']\n"
     ]
    }
   ],
   "source": [
    "#6. Uklanjanje stop riječi\n",
    "book_removed_stop_words = [token for token in book_lemmatized if not token in stopwords.words(\"english\")]\n",
    "print(book_removed_stop_words[0:50])"
   ]
  },
  {
   "cell_type": "code",
   "execution_count": 35,
   "id": "83730fbf-797a-408d-a122-4280a170d6eb",
   "metadata": {},
   "outputs": [
    {
     "name": "stdout",
     "output_type": "stream",
     "text": [
      "[('wa', 913), ('said', 486), ('hagen', 325), ('would', 290), ('michael', 286), ('corleone', 280), ('sonny', 280), ('man', 249), ('sollozzo', 210), ('family', 192)]\n"
     ]
    },
    {
     "data": {
      "image/png": "[encoded data removed]",
      "text/plain": [
       "<Figure size 640x480 with 1 Axes>"
      ]
     },
     "metadata": {},
     "output_type": "display_data"
    },
    {
     "data": {
      "text/plain": [
       "<AxesSubplot:title={'center':'Frekvencije riječi'}, xlabel='Samples', ylabel='Counts'>"
      ]
     },
     "execution_count": 35,
     "metadata": {},
     "output_type": "execute_result"
    }
   ],
   "source": [
    "#7. Frekvencije riječi\n",
    "\n",
    "word_count = Counter(book_removed_stop_words)\n",
    "print(word_count.most_common(10))\n",
    "\n",
    "fd = nltk.FreqDist(book_removed_stop_words)\n",
    "frequency = fd.most_common(10)\n",
    "fd.plot(10,title='Frekvencije riječi')"
   ]
  },
  {
   "cell_type": "code",
   "execution_count": 97,
   "id": "dc91cca8-b3c4-469b-91e9-9d8cb3dd1c82",
   "metadata": {},
   "outputs": [
    {
     "name": "stdout",
     "output_type": "stream",
     "text": [
      "Displaying 25 of 913 matches:\n",
      "ise two young men standing bench face wa cold majestic contempt wa something f\n",
      " bench face wa cold majestic contempt wa something false amerigo bonasera sens\n",
      "onasera face beautiful young daughter wa still hospital broken jaw wired toget\n",
      "te linen pocket handkerchief held lip wa standing two young men strode freely \n",
      "ican dress glanced shamefaced yet eye wa odd triumphant defiance control bonas\n",
      "oved quickly block row bonasera stood wa necessary year america amerigo bonase\n",
      "os angeles hotel suite johnny fontane wa jealously drunk ordinary husband spra\n",
      "g mouth crystal bucket ice cube water wa four morning wa spinning drunken fant\n",
      "bucket ice cube water wa four morning wa spinning drunken fantasy murdering tr\n",
      "g trampy wife got home ever come home wa late call first wife ask kid felt fun\n",
      " kid felt funny calling friend career wa plunging downhill time would godfathe\n",
      " door kept drinking walked room stood wa beautiful angelic face soulful violet\n",
      "e perfectly formed body screen beauty wa magnified spiritualized hundred milli\n",
      "k screamed johnny face making picture wa laughing punched stomach fell floor f\n",
      "figurement loosened teeth broken nose wa hitting hard enough could wa giggling\n",
      "ken nose wa hitting hard enough could wa giggling floor brocaded gown hitched \n",
      " fontane got hated woman floor beauty wa magic shield margot rolled away dance\n",
      "ield margot rolled away dancer spring wa foot facing went childish mocking dan\n",
      "made pick phone call car take airport wa one person could save would go back n\n",
      "per enzo enzo changed uniform armband wa terrified scene would make late repor\n",
      "r parole revoked little comedy played wa serious business nazorine asked fierc\n",
      "end hide cousin long island katherine wa weeping wa already plump homely sprou\n",
      "usin long island katherine wa weeping wa already plump homely sprouting faint \n",
      "o godfather nazorine glanced shrewdly wa hot number daughter seen brush swelli\n",
      "st kept america made american citizen wa one man could arrange affair godfathe\n",
      "\n",
      "\n",
      "Displaying 25 of 486 matches:\n",
      "ted like worst kind degenerate judge said harshly yes yes thought amerigo bona\n",
      "en hell johnny fontane asked fucking said misjudged drunkenness sprang cocktai\n",
      "never hurt almost sadly grave beauty said poor silly bastard giving cramp like\n",
      "dopey song used book sing shook head said poor johnny goodbye johnny walked be\n",
      "rt strongly built boy put hand heart said almost tear yet cleverly padrone swe\n",
      "ilomena spoke point stop foolishness said pudgy husband know must keep enzo se\n",
      "ine family dare grunted disdainfully said performs miracle stranger michael co\n",
      "em particularly happy michael smiled said waiting see father private favor ask\n",
      "rked around mall sonny turned father said guy must cop corleone shrugged stree\n",
      "e mall nothing happened reached step said father guy fbi men taking license nu\n",
      " gulped wine instead thanking paulie said curtly never mind dance judge job ta\n",
      "om hagen handed list corleone nodded said leave bonasera end hagen used french\n",
      "urage baker finished corleone smiled said dear friend put worry aside went exp\n",
      "k roll bill wa quite enough grimaced said tom hagen loan hundred dollar pay ba\n",
      "friend raised head inquiringly hagen said list luca brasi want see understands\n",
      "n eastern underworld great talent wa said wa could job murder without confeder\n",
      "w almost impossible michael grimaced said know whether stuff true know sort fr\n",
      "ng man like work father hell thought said straight nearly fifteen year ago peo\n",
      "ot gangster fifteen year ago michael said everything peaceful since wa afraid \n",
      " wa afraid gone far trying scare kay said want marry smiled poked rib elbow cl\n",
      "lever michael smiled back want think said really kill six men kay asked newspa\n",
      "men kay asked newspaper claimed mike said nobody ever proved another story nob\n",
      " tom hagen know story wo tell kidded said old enough hear story luca tom said \n",
      " said old enough hear story luca tom said hundred michael sipped book glass wi\n",
      "agen nodded corleone frowned thought said bring tell santino come learn thing \n",
      "\n",
      "\n",
      "Displaying 25 of 325 matches:\n",
      "e slightly raised corner room thomas hagen watched wedding party festooned gard\n",
      " garden wall behind stacked law book hagen wa lawyer acting consigliere counsel\n",
      "uld little work day would coming see hagen saw sonny corleone whisper lucy manc\n",
      "ini ear little comedy followed house hagen grimaced debated whether inform deci\n",
      " see corleone privately entered room hagen handed list corleone nodded said lea\n",
      "leone nodded said leave bonasera end hagen used french door went directly garde\n",
      "er embraced disappearing garden book hagen smiled good investment nazorine chea\n",
      "shington handle overflow raise price hagen made note pad congressman luteco try\n",
      "gressman luteco try fischer next man hagen brought wa simple case name wa antho\n",
      "ll wa quite enough grimaced said tom hagen loan hundred dollar pay back monday \n",
      "ng left little short cash took money hagen extended gave anthony coppola roll b\n",
      "ended gave anthony coppola roll bill hagen watched quiet admiration always taug\n",
      " poor friend raised head inquiringly hagen said list luca brasi want see unders\n",
      "ed answer wa devious necessary asked hagen shrugged understand better wa gratef\n",
      "sed terrible even father wo talk tom hagen know story wo tell kidded said old e\n",
      "ed cash gift bridal couple wa wanted hagen noticed change corleone received bra\n",
      "e overlooked flowery sentence thanks hagen saw luca brasi face lose mask fury s\n",
      "pleasure brasi kissed hand went door hagen held open hagen prudently gave brasi\n",
      "issed hand went door hagen held open hagen prudently gave brasi friendly smile \n",
      "xploded harmlessly need arose looked hagen bonasera one left hagen nodded corle\n",
      "arose looked hagen bonasera one left hagen nodded corleone frowned thought said\n",
      "tell santino come learn thing garden hagen searched anxiously sonny corleone to\n",
      "around asked michael shook head damn hagen thought sonny wa screwing maid honor\n",
      "isappear almost half hour ago seeing hagen go house kay adam asked michael corl\n",
      "change name disrespectful parent saw hagen shoo sonny french door office crook \n",
      "\n",
      "\n",
      "Displaying 25 of 290 matches:\n",
      "end career wa plunging downhill time would godfather lighted flattered calling \n",
      "york hell kitchen painful punishment would leave lasting disfigurement loosened\n",
      "ake airport wa one person could save would go back new york would go back one m\n",
      "on could save would go back new york would go back one man power wisdom needed \n",
      "d uniform armband wa terrified scene would make late reporting back governor is\n",
      "ump homely sprouting faint moustache would never get husband handsome enzo neve\n",
      " hot loaf oven young rascal hot loaf would oven nazorine thought lewdly proper \n",
      "ved huge house long island reception would held house festivity would go day wa\n",
      "reception would held house festivity would go day wa doubt would momentous occa\n",
      "ouse festivity would go day wa doubt would momentous occasion war japanese ende\n",
      "omentous occasion war japanese ended would nagging fear son fighting army cloud\n",
      "r poor powerless supplicant corleone would take man trouble heart would let not\n",
      "orleone would take man trouble heart would let nothing stand way solution man w\n",
      "hand morning altar maiden could care would never great man father proved sonny \n",
      "at help father business many doubted would become heir second son frederico cal\n",
      " straight rather curly skin wa clear would called beautiful girl wa handsome de\n",
      " hundred year ago name wa common one would shrugged every guest noticed paid pa\n",
      "r sedan walked away wa hoping driver would get sedan come mall nothing happened\n",
      "display anger tantrum served purpose would convince interloper presence wa unex\n",
      "ed wa beginning married royal family would take care crowd guest dapper young m\n",
      "e festivity enter house knew wedding would little work day would coming see hag\n",
      "e knew wedding would little work day would coming see hagen saw sonny corleone \n",
      "ered katherine war wa ended poor lad would repatriated italy nazorine daughter \n",
      " repatriated italy nazorine daughter would surely die broken heart godfather co\n",
      "district must petitioned congressman would propose special bill would allow enz\n",
      "\n",
      "\n",
      "Displaying 25 of 286 matches:\n",
      "d inherit family business third son michael corleone stand father two brother s\n",
      "ould escape attention family friend michael corleone wa youngest son tbe child \n",
      "t son masculinity worry wa put rest michael corleone became seventeen year old \n",
      "paid particular attention third son michael favorite war obviously chosen heir \n",
      "recourse respect world war ii broke michael corleone volunteered marine corp de\n",
      " money spent take proper precaution michael wa year age nothing could done will\n",
      "ully said performs miracle stranger michael corleone wa discharged early recove\n",
      " show future wife rag american girl michael corleone wa amusing kay adam tellin\n",
      "ct four men seem particularly happy michael smiled said waiting see father priv\n",
      "ury imprinted face luca brasi asked michael brought kay wedding would slowly pe\n",
      "gard slightly unethical businessman michael decided tell part truth indirectly \n",
      "ry conviction law almost impossible michael grimaced said know whether stuff tr\n",
      "r wa shot gangster fifteen year ago michael said everything peaceful since wa a\n",
      "marry smiled poked rib elbow clever michael smiled back want think said really \n",
      "gh hear story luca tom said hundred michael sipped book glass wine must story m\n",
      " told waiting bonasera patient went michael corleone girl friend see sonny arou\n",
      " girl friend see sonny around asked michael shook head damn hagen thought sonny\n",
      "eeing hagen go house kay adam asked michael corleone introduced brother name di\n",
      "om lived u since wa twelve year old michael said parent died wa roaming around \n",
      "rson adopt somebody like many child michael bother point immigrant italian cons\n",
      "u oh kay said asked curiously adopt michael laughed father said would disrespec\n",
      "er business day like kay asked book michael laughed know tradition sicilian ref\n",
      "ly week afterward fredo would cowed michael would given cold smile gone house s\n",
      "y fontane said sure marry want meet michael asked kay said sighed wa love three\n",
      "scream head wa wonderful meet later michael said johnny finished singing vanish\n",
      "\n",
      "\n",
      "Displaying 25 of 280 matches:\n",
      " fearing cost justice must go knee corleone garishly decorated los angeles hot\n",
      "eeded love still trusted godfather corleone baker nazorine pudgy crusty great \n",
      "man could arrange affair godfather corleone people many others received engrav\n",
      "invitation wedding miss constanzia corleone celebrated last saturday august fa\n",
      " saturday august father bride vito corleone never forgot old friend neighbor t\n",
      "d show joy saturday morning friend corleone streamed new york city honor bore \n",
      "odfather respect truly earned vito corleone wa man everybody came help never d\n",
      "p matter poor powerless supplicant corleone would take man trouble heart would\n",
      "reat day daughter wedding day vito corleone stood doorway long beach home gree\n",
      " liquor expert skill waiter friend corleone son food garden picnic table cooke\n",
      "ooned garden decorated young bride corleone received poor powerful equal show \n",
      "alian men admiration younger sonny corleone wa tall american italian parentage\n",
      " feast young matron measured sonny corleone coolly confident eye particular da\n",
      " particular day wasting time sonny corleone despite presence godfather wife th\n",
      "ever great man father proved sonny corleone strength courage wa generous heart\n",
      " family business third son michael corleone stand father two brother sat table\n",
      "pe attention family friend michael corleone wa youngest son tbe child refused \n",
      "culinity worry wa put rest michael corleone became seventeen year old youngest\n",
      "respect world war ii broke michael corleone volunteered marine corp defied fat\n",
      "corp defied father express command corleone desire intention letting youngest \n",
      "ine photo layout deed friend shown corleone magazine family dare grunted disda\n",
      " performs miracle stranger michael corleone wa discharged early recover disabl\n",
      "ure wife rag american girl michael corleone wa amusing kay adam telling little\n",
      "e four men constantly followed eye corleone stood greeting guest black chevrol\n",
      "ny turned father said guy must cop corleone shrugged street please sonny heavy\n",
      "\n",
      "\n",
      "Displaying 25 of 280 matches:\n",
      "e son eldest baptized santino called sonny everyone except father wa looked ask\n",
      "older italian men admiration younger sonny corleone wa tall american italian pa\n",
      " wedding feast young matron measured sonny corleone coolly confident eye partic\n",
      "dent eye particular day wasting time sonny corleone despite presence godfather \n",
      "ara flower glossy black hair flirted sonny past week rehearsal squeezed hand mo\n",
      " would never great man father proved sonny corleone strength courage wa generou\n",
      "icense number car parked around mall sonny turned father said guy must cop corl\n",
      " cop corleone shrugged street please sonny heavy cupid face grew red anger lous\n",
      "allet show green identification card sonny stepped back without saying word spa\n",
      "tate little trouble law new york met sonny corleone met sister corleone course \n",
      "s disappeared tactfully house seeing sonny corleone made way bride table sat be\n",
      "last touch book serving wedding cake sonny whispered word young girl ear rose s\n",
      "y whispered word young girl ear rose sonny waited minute casually followed stop\n",
      "eputation marriage rehearsal flirted sonny corleone teasing joking way thought \n",
      "ly stair bathroom stayed moment came sonny corleone wa landing beckoning upward\n",
      " work day would coming see hagen saw sonny corleone whisper lucy mancini ear li\n",
      "hing garden hagen searched anxiously sonny corleone told waiting bonasera patie\n",
      "ent michael corleone girl friend see sonny around asked michael shook head damn\n",
      "ichael shook head damn hagen thought sonny wa screwing maid honor time wa going\n",
      "ster anxiously hurried entrance seen sonny disappear almost half hour ago seein\n",
      "ming around street bad eye infection sonny brought home one night stayed anypla\n",
      " disrespectful parent saw hagen shoo sonny french door office crook finger amer\n",
      "cini lifted pink gown floor ran step sonny corleone heavy cupid face redly obsc\n",
      " corleone lucy heard whispered story sonny one sunday afternoon corleone kitche\n",
      "ne sunday afternoon corleone kitchen sonny wife sandra gossiped freely sandra w\n",
      "\n",
      "\n",
      "Displaying 25 of 249 matches:\n",
      "ghter tried dishonor judge formidably man rolled sleeve black robe physically c\n",
      "ld go back new york would go back one man power wisdom needed love still truste\n",
      "band handsome enzo never find another man touched body secret place respectful \n",
      " america made american citizen wa one man could arrange affair godfather corleo\n",
      "respect truly earned vito corleone wa man everybody came help never disappointe\n",
      "erless supplicant corleone would take man trouble heart would let nothing stand\n",
      " would let nothing stand way solution man woe reward friendship respectful titl\n",
      "r maiden could care would never great man father proved sonny corleone strength\n",
      " youngest son tbe child refused great man direction heavy face child jet black \n",
      "ld take care crowd guest dapper young man sleek head ferret wa also studying si\n",
      "owd band took refreshment break young man named nino valenti picked discarded m\n",
      "king way thought wa permitted wa best man wedding partner holding pink gown gro\n",
      "li cigar glass yellow strega put hand man shoulder urge wa mark humanity knew b\n",
      "erience courage took ask favor fellow man baker told story daughter enzo fine i\n",
      "ulder head nodding understanding keep man courage baker finished corleone smile\n",
      "d congressman luteco try fischer next man hagen brought wa simple case name wa \n",
      "e case name wa anthony coppola wa son man corleone worked railroad yard youth c\n",
      "atched quiet admiration always taught man wa generous must show generosity pers\n",
      "y personal flattering anthony coppola man like would borrow loan money coppola \n",
      "nd asked little incredulously hinting man like work father hell thought said st\n",
      " story must luca luca brasi wa indeed man frighten devil hell short squat prese\n",
      "y fear god fear hell fear love fellow man elected chosen fear love corleone ush\n",
      "ently gave brasi friendly smile squat man acknowledged polite stretching rubber\n",
      "leone gave small sigh relief brasi wa man world could make godfather nervous ma\n",
      "an world could make godfather nervous man wa like natural force truly subject c\n",
      "\n",
      "\n",
      "Displaying 25 of 210 matches:\n",
      "te heaved sigh asked anything else sollozzo ca put see week hagen held pen cal\n",
      " two thing important answer virgil sollozzo would second corleone since would \n",
      "johnny see movie pezzonovante tell sollozzo see get back california anything e\n",
      "ortant wa meeting hagen set virgil sollozzo following friday hagen knew equal \n",
      "ything cleared away meeting virgil sollozzo friday meeting importance asked fu\n",
      "ning talk prepare proposition knew sollozzo would offer family business hagen \n",
      " important meeting next day virgil sollozzo summoned eldest son attend sonny c\n",
      "ure touched every important detail sollozzo coming u help hagen said ask famil\n",
      " get piece action nobody know much sollozzo vouched tattaglia family may piece\n",
      "y may piece action action narcotic sollozzo ha contact turkey grow ship sicily\n",
      " business matter went hastily call sollozzo turk two reason spent lot time tur\n",
      "ready come conclusion would refuse sollozzo proposition wa worse hagen wa conv\n",
      "straitlaced matter sex virgil turk sollozzo wa powerfully built man dark compl\n",
      "t wa little simple little greeting sollozzo came point immediately business wa\n",
      "asked politely deserved generosity sollozzo dark face remained impassive need \n",
      "compliment percentage family asked sollozzo eye gleamed fifty percent paused s\n",
      "entage tattaglia family first time sollozzo seemed nervous receive something s\n",
      "al protection worry operation tell sollozzo nodded think two million dollar ca\n",
      " ca endanger livelihood greed sign sollozzo disappointment wa quick flickering\n",
      "ity two million smiled coldly said sollozzo tried tattaglia family guarantee i\n",
      "t son froze uncomprehending dismay sollozzo eye flickered time satisfaction di\n",
      " weakness child spoiled see signor sollozzo final let say wish good fortune bu\n",
      "iness ha conflict sorry disappoint sollozzo bowed shook hand let hagen take ca\n",
      "omeone stepped way surprise saw wa sollozzo sollozzo took arm said quietly fri\n",
      "epped way surprise saw wa sollozzo sollozzo took arm said quietly frightened w\n",
      "\n",
      "\n",
      "Displaying 25 of 192 matches:\n",
      "esire spoke youth clean record fine family law majesty doe seek vengeance here\n",
      " nazorine asked fiercely dishonored family given daughter little package remem\n",
      " wa short burly handsome cupid head family curly helmet hair round face sensua\n",
      "sary leader men wa expected inherit family business third son michael corleone\n",
      " garden even could escape attention family friend michael corleone wa youngest\n",
      "claim chosen alienation father book family beside sat american girl everyone h\n",
      "troduced everyone wedding including family impressed wa thin wa fair face wa s\n",
      "outlandish ear called kay adam told family settled america two hundred year ag\n",
      "orite war obviously chosen heir run family business proper moment came quiet f\n",
      "deed friend shown corleone magazine family dare grunted disdainfully said perf\n",
      "i smiled wa beginning married royal family would take care crowd guest dapper \n",
      "lor held vital subordinate position family business solved many knotty problem\n",
      "d corleone home christmas godfather family birthday rich creamy pastry proclai\n",
      " going mess trouble wife young girl family could disaster anxiously hurried en\n",
      "italian considered four child small family merely said tom wa adopted lived u \n",
      "st excuse daughter wife goddaughter family respect coming today hospital still\n",
      "r freedom yet taught never dishonor family found friend italian went movie sta\n",
      " instructed santino could never run family business could never become would f\n",
      "odfather book corleone curtly broke family johnny sighed took care divorce gav\n",
      "rful complain wo help nonsense left family child without father marry whore we\n",
      "ship talent government almost equal family never forget built wall friendship \n",
      "iere abbandando dying wo last night family wa told come wait hagen filled cons\n",
      "new give something important inside family wa surprised vehemence answer never\n",
      "n living good living never let know family business tell others sonny fredo cl\n",
      "ately wa truly surprised never told family knew johnny fontane said sure marry\n",
      "\n",
      "\n"
     ]
    }
   ],
   "source": [
    "#8. Concordance za najfrekventnije riječi\n",
    "\n",
    "frequency2 = []\n",
    "\n",
    "for token in frequency:\n",
    "    frequency2.append(token[0])\n",
    "\n",
    "tokens1 = nltk.word_tokenize(book_txt)\n",
    "text1 = nltk.Text(book_removed_stop_words)\n",
    "\n",
    "for token in frequency2:\n",
    "    text1.concordance(token)\n",
    "    print(\"\\n\")"
   ]
  },
  {
   "cell_type": "code",
   "execution_count": 98,
   "id": "f8c846ae-0aa2-4185-a96c-d3096740c11d",
   "metadata": {},
   "outputs": [
    {
     "data": {
      "text/plain": [
       "[('old', 'man'),\n",
       " ('Johnny', 'Fontane'),\n",
       " ('New', 'York'),\n",
       " ('Paulie', 'Gatto'),\n",
       " ('Luca', 'Brasi'),\n",
       " ('Long', 'Beach'),\n",
       " ('Hagen', 'said'),\n",
       " ('Tom', 'Hagen'),\n",
       " ('Amerigo', 'Bonasera'),\n",
       " ('police', 'captain'),\n",
       " ('Sonny', 'said'),\n",
       " ('Michael', 'said'),\n",
       " ('Genco', 'Abbandando'),\n",
       " ('thousand', 'dollars'),\n",
       " ('Corleone', 'Family'),\n",
       " ('Kay', 'Adams'),\n",
       " ('Jack', 'Woltz'),\n",
       " ('Bruno', 'Tattaglia'),\n",
       " (\"n't\", 'want'),\n",
       " ('Sonny', 'Corleone')]"
      ]
     },
     "execution_count": 98,
     "metadata": {},
     "output_type": "execute_result"
    }
   ],
   "source": [
    "#9. Kolokacije\n",
    "\n",
    "text1 = nltk.Text(tokens1)\n",
    "text1.collocation_list()"
   ]
  },
  {
   "cell_type": "code",
   "execution_count": 80,
   "id": "2c11eec5-79ab-4e08-a368-48dce6ff83cf",
   "metadata": {},
   "outputs": [
    {
     "name": "stdout",
     "output_type": "stream",
     "text": [
      "0.1650580784991026\n"
     ]
    }
   ],
   "source": [
    "#10. Leksički diverzitet\n",
    "\n",
    "def lexical_diversity(text):\n",
    "    return len(set(text)) / len(text)\n",
    "\n",
    "print(lexical_diversity(book_removed_stop_words))"
   ]
  },
  {
   "cell_type": "code",
   "execution_count": 99,
   "id": "da1a9f69-e100-45e6-ae69-6d6f37d358e8",
   "metadata": {},
   "outputs": [
    {
     "name": "stdout",
     "output_type": "stream",
     "text": [
      "Kategorija adventure: \n",
      "amerigo: 0, bonasera: 0, sat: 23, new: 22, york: 0, criminal: 1, court: 0, number: 4, waited: 12, justice: 1, vengeance: 0, men: 81, cruelly: 1, hurt: 11, daughter: 1, tried: 16, dishonor: 1, judge: 2, formidably: 0, man: 165, rolled: 9, sleeve: 6, black: 26, robe: 1, physically: 0, chastise: 0, two: 80, young: 24, men: 81, standing: 12, bench: 0, face: 74, wa: 0, cold: 14, majestic: 0, contempt: 0, wa: 0, something: 50, false: 1, amerigo: 0, bonasera: 0, sensed: 4, yet: 21, understand: 13, acted: 1, like: 136, worst: 3, kind: 19, degenerate: 0, judge: 2, said: 287, harshly: 3, yes: 5, yes: 5, thought: 62, amerigo: 0, bonasera: 0, animal: 4, animal: 4, two: 80, young: 24, men: 81, glossy: 0, hair: 37, crew: 4, cut: 10, scrubbed: 1, face: 74, composed: 0, humble: 0, contrition: 0, bowed: 0, head: 71, submission: 0, judge: 2, went: 60, acted: 1, like: 136, wild: 7, beast: 1, jungle: 16, fortunate: 0, sexually: 0, molest: 0, poor: 5, girl: 53, put: 23, behind: 48, bar: 9, twenty: 7, year: 11, judge: 2, paused: 6, eye: 7, beneath: 15, impressively: 0, thick: 9, brow: 1, flickered: 0, slyly: 0, \n",
      "\n",
      "Kategorija belles_lettres: \n",
      "amerigo: 0, bonasera: 0, sat: 14, new: 163, york: 0, criminal: 6, court: 13, number: 36, waited: 8, justice: 21, vengeance: 4, men: 163, cruelly: 0, hurt: 0, daughter: 15, tried: 24, dishonor: 0, judge: 5, formidably: 0, man: 219, rolled: 2, sleeve: 0, black: 14, robe: 0, physically: 6, chastise: 0, two: 182, young: 78, men: 163, standing: 9, bench: 1, face: 42, wa: 0, cold: 12, majestic: 2, contempt: 6, wa: 0, something: 49, false: 8, amerigo: 0, bonasera: 0, sensed: 2, yet: 47, understand: 23, acted: 3, like: 169, worst: 8, kind: 67, degenerate: 0, judge: 5, said: 159, harshly: 0, yes: 6, yes: 6, thought: 71, amerigo: 0, bonasera: 0, animal: 5, animal: 5, two: 182, young: 78, men: 163, glossy: 0, hair: 16, crew: 2, cut: 8, scrubbed: 0, face: 42, composed: 9, humble: 6, contrition: 0, bowed: 1, head: 26, submission: 0, judge: 5, went: 60, acted: 3, like: 169, wild: 1, beast: 1, jungle: 0, fortunate: 8, sexually: 1, molest: 0, poor: 13, girl: 18, put: 58, behind: 25, bar: 3, twenty: 19, year: 52, judge: 5, paused: 2, eye: 32, beneath: 12, impressively: 0, thick: 3, brow: 1, flickered: 0, slyly: 0, \n",
      "\n",
      "Kategorija editorial: \n",
      "amerigo: 0, bonasera: 0, sat: 1, new: 80, york: 0, criminal: 2, court: 5, number: 13, waited: 0, justice: 6, vengeance: 1, men: 38, cruelly: 0, hurt: 0, daughter: 1, tried: 5, dishonor: 0, judge: 0, formidably: 0, man: 56, rolled: 1, sleeve: 0, black: 7, robe: 0, physically: 2, chastise: 0, two: 59, young: 23, men: 38, standing: 2, bench: 0, face: 14, wa: 0, cold: 11, majestic: 1, contempt: 1, wa: 0, something: 19, false: 4, amerigo: 0, bonasera: 0, sensed: 0, yet: 21, understand: 11, acted: 1, like: 49, worst: 0, kind: 10, degenerate: 0, judge: 0, said: 52, harshly: 1, yes: 0, yes: 0, thought: 5, amerigo: 0, bonasera: 0, animal: 0, animal: 0, two: 59, young: 23, men: 38, glossy: 0, hair: 3, crew: 1, cut: 11, scrubbed: 0, face: 14, composed: 0, humble: 3, contrition: 0, bowed: 0, head: 10, submission: 0, judge: 0, went: 9, acted: 1, like: 49, wild: 1, beast: 0, jungle: 1, fortunate: 0, sexually: 0, molest: 1, poor: 4, girl: 5, put: 27, behind: 10, bar: 2, twenty: 0, year: 52, judge: 0, paused: 0, eye: 2, beneath: 1, impressively: 0, thick: 0, brow: 0, flickered: 0, slyly: 0, \n",
      "\n",
      "Kategorija fiction: \n",
      "amerigo: 0, bonasera: 0, sat: 37, new: 33, york: 0, criminal: 0, court: 3, number: 6, waited: 8, justice: 1, vengeance: 0, men: 72, cruelly: 1, hurt: 5, daughter: 4, tried: 26, dishonor: 1, judge: 1, formidably: 0, man: 111, rolled: 9, sleeve: 0, black: 24, robe: 0, physically: 0, chastise: 0, two: 68, young: 26, men: 72, standing: 17, bench: 3, face: 58, wa: 0, cold: 15, majestic: 0, contempt: 1, wa: 0, something: 45, false: 0, amerigo: 0, bonasera: 0, sensed: 3, yet: 23, understand: 18, acted: 2, like: 147, worst: 4, kind: 17, degenerate: 0, judge: 1, said: 192, harshly: 0, yes: 14, yes: 14, thought: 76, amerigo: 0, bonasera: 0, animal: 1, animal: 1, two: 68, young: 26, men: 72, glossy: 0, hair: 26, crew: 3, cut: 8, scrubbed: 0, face: 58, composed: 2, humble: 1, contrition: 1, bowed: 1, head: 54, submission: 0, judge: 1, went: 79, acted: 2, like: 147, wild: 7, beast: 1, jungle: 0, fortunate: 3, sexually: 0, molest: 0, poor: 12, girl: 20, put: 37, behind: 38, bar: 4, twenty: 4, year: 9, judge: 1, paused: 2, eye: 17, beneath: 5, impressively: 0, thick: 12, brow: 1, flickered: 0, slyly: 0, \n",
      "\n",
      "Kategorija government: \n",
      "amerigo: 0, bonasera: 0, sat: 0, new: 100, york: 0, criminal: 1, court: 12, number: 35, waited: 0, justice: 5, vengeance: 0, men: 40, cruelly: 0, hurt: 0, daughter: 0, tried: 1, dishonor: 0, judge: 1, formidably: 0, man: 12, rolled: 0, sleeve: 0, black: 0, robe: 0, physically: 1, chastise: 0, two: 62, young: 8, men: 40, standing: 4, bench: 0, face: 5, wa: 0, cold: 2, majestic: 1, contempt: 0, wa: 0, something: 5, false: 0, amerigo: 0, bonasera: 0, sensed: 0, yet: 12, understand: 4, acted: 2, like: 21, worst: 4, kind: 10, degenerate: 0, judge: 1, said: 18, harshly: 0, yes: 0, yes: 0, thought: 7, amerigo: 0, bonasera: 0, animal: 0, animal: 0, two: 62, young: 8, men: 40, glossy: 0, hair: 0, crew: 0, cut: 7, scrubbed: 0, face: 5, composed: 2, humble: 3, contrition: 0, bowed: 1, head: 3, submission: 2, judge: 1, went: 2, acted: 2, like: 21, wild: 0, beast: 0, jungle: 0, fortunate: 0, sexually: 0, molest: 0, poor: 5, girl: 2, put: 10, behind: 1, bar: 2, twenty: 3, year: 183, judge: 1, paused: 0, eye: 0, beneath: 0, impressively: 0, thick: 3, brow: 0, flickered: 0, slyly: 0, \n",
      "\n",
      "Kategorija hobbies: \n",
      "amerigo: 0, bonasera: 0, sat: 3, new: 103, york: 0, criminal: 0, court: 4, number: 54, waited: 0, justice: 0, vengeance: 0, men: 33, cruelly: 0, hurt: 0, daughter: 1, tried: 4, dishonor: 0, judge: 8, formidably: 0, man: 16, rolled: 7, sleeve: 2, black: 5, robe: 1, physically: 1, chastise: 0, two: 116, young: 14, men: 33, standing: 6, bench: 4, face: 8, wa: 0, cold: 10, majestic: 1, contempt: 0, wa: 0, something: 9, false: 1, amerigo: 0, bonasera: 0, sensed: 0, yet: 11, understand: 5, acted: 1, like: 66, worst: 1, kind: 15, degenerate: 0, judge: 8, said: 11, harshly: 0, yes: 1, yes: 1, thought: 10, amerigo: 0, bonasera: 0, animal: 6, animal: 6, two: 116, young: 14, men: 33, glossy: 0, hair: 1, crew: 2, cut: 43, scrubbed: 0, face: 8, composed: 1, humble: 0, contrition: 0, bowed: 0, head: 54, submission: 1, judge: 8, went: 10, acted: 1, like: 66, wild: 3, beast: 0, jungle: 0, fortunate: 4, sexually: 0, molest: 0, poor: 3, girl: 0, put: 28, behind: 12, bar: 29, twenty: 2, year: 53, judge: 8, paused: 0, eye: 12, beneath: 0, impressively: 0, thick: 6, brow: 0, flickered: 0, slyly: 0, \n",
      "\n",
      "Kategorija humor: \n",
      "amerigo: 0, bonasera: 0, sat: 10, new: 14, york: 0, criminal: 0, court: 2, number: 1, waited: 0, justice: 1, vengeance: 2, men: 6, cruelly: 0, hurt: 1, daughter: 4, tried: 4, dishonor: 0, judge: 1, formidably: 0, man: 21, rolled: 0, sleeve: 1, black: 3, robe: 1, physically: 0, chastise: 0, two: 25, young: 4, men: 6, standing: 4, bench: 1, face: 4, wa: 0, cold: 3, majestic: 0, contempt: 0, wa: 0, something: 16, false: 0, amerigo: 0, bonasera: 0, sensed: 1, yet: 3, understand: 6, acted: 1, like: 34, worst: 0, kind: 11, degenerate: 0, judge: 1, said: 87, harshly: 1, yes: 1, yes: 1, thought: 14, amerigo: 0, bonasera: 0, animal: 0, animal: 0, two: 25, young: 4, men: 6, glossy: 0, hair: 5, crew: 0, cut: 4, scrubbed: 0, face: 4, composed: 0, humble: 0, contrition: 0, bowed: 0, head: 12, submission: 0, judge: 1, went: 15, acted: 1, like: 34, wild: 1, beast: 0, jungle: 0, fortunate: 0, sexually: 0, molest: 0, poor: 2, girl: 11, put: 13, behind: 5, bar: 0, twenty: 2, year: 8, judge: 1, paused: 1, eye: 3, beneath: 2, impressively: 0, thick: 2, brow: 0, flickered: 0, slyly: 0, \n",
      "\n",
      "Kategorija learned: \n",
      "amerigo: 0, bonasera: 0, sat: 2, new: 127, york: 0, criminal: 4, court: 35, number: 173, waited: 1, justice: 15, vengeance: 1, men: 46, cruelly: 1, hurt: 0, daughter: 0, tried: 9, dishonor: 0, judge: 2, formidably: 0, man: 68, rolled: 0, sleeve: 0, black: 9, robe: 0, physically: 0, chastise: 0, two: 238, young: 28, men: 46, standing: 4, bench: 1, face: 15, wa: 0, cold: 16, majestic: 0, contempt: 1, wa: 0, something: 38, false: 6, amerigo: 0, bonasera: 0, sensed: 2, yet: 40, understand: 10, acted: 2, like: 83, worst: 0, kind: 30, degenerate: 0, judge: 2, said: 35, harshly: 0, yes: 2, yes: 2, thought: 31, amerigo: 0, bonasera: 0, animal: 17, animal: 17, two: 238, young: 28, men: 46, glossy: 0, hair: 4, crew: 0, cut: 19, scrubbed: 0, face: 15, composed: 15, humble: 3, contrition: 0, bowed: 1, head: 16, submission: 1, judge: 2, went: 9, acted: 2, like: 83, wild: 4, beast: 1, jungle: 1, fortunate: 2, sexually: 0, molest: 0, poor: 13, girl: 15, put: 40, behind: 17, bar: 1, twenty: 4, year: 43, judge: 2, paused: 0, eye: 3, beneath: 4, impressively: 0, thick: 7, brow: 0, flickered: 0, slyly: 0, \n",
      "\n",
      "Kategorija lore: \n",
      "amerigo: 0, bonasera: 0, sat: 2, new: 95, york: 0, criminal: 2, court: 10, number: 36, waited: 4, justice: 11, vengeance: 1, men: 86, cruelly: 0, hurt: 4, daughter: 7, tried: 13, dishonor: 0, judge: 1, formidably: 0, man: 88, rolled: 1, sleeve: 0, black: 15, robe: 0, physically: 5, chastise: 0, two: 125, young: 33, men: 86, standing: 9, bench: 1, face: 21, wa: 0, cold: 18, majestic: 2, contempt: 1, wa: 0, something: 21, false: 4, amerigo: 0, bonasera: 0, sensed: 0, yet: 21, understand: 9, acted: 0, like: 86, worst: 3, kind: 33, degenerate: 0, judge: 1, said: 89, harshly: 0, yes: 1, yes: 1, thought: 36, amerigo: 0, bonasera: 0, animal: 15, animal: 15, two: 125, young: 33, men: 86, glossy: 0, hair: 5, crew: 13, cut: 19, scrubbed: 0, face: 21, composed: 4, humble: 1, contrition: 0, bowed: 0, head: 38, submission: 0, judge: 1, went: 41, acted: 0, like: 86, wild: 7, beast: 0, jungle: 0, fortunate: 1, sexually: 5, molest: 0, poor: 11, girl: 29, put: 34, behind: 14, bar: 6, twenty: 8, year: 48, judge: 1, paused: 1, eye: 11, beneath: 5, impressively: 0, thick: 8, brow: 0, flickered: 0, slyly: 0, \n",
      "\n",
      "Kategorija mystery: \n",
      "amerigo: 0, bonasera: 0, sat: 17, new: 16, york: 0, criminal: 1, court: 1, number: 20, waited: 16, justice: 0, vengeance: 0, men: 36, cruelly: 1, hurt: 4, daughter: 1, tried: 16, dishonor: 0, judge: 3, formidably: 0, man: 106, rolled: 9, sleeve: 1, black: 8, robe: 0, physically: 0, chastise: 0, two: 80, young: 14, men: 36, standing: 8, bench: 2, face: 47, wa: 0, cold: 14, majestic: 0, contempt: 1, wa: 0, something: 52, false: 0, amerigo: 0, bonasera: 0, sensed: 3, yet: 18, understand: 6, acted: 1, like: 136, worst: 2, kind: 15, degenerate: 0, judge: 3, said: 202, harshly: 0, yes: 13, yes: 13, thought: 54, amerigo: 0, bonasera: 0, animal: 2, animal: 2, two: 80, young: 14, men: 36, glossy: 1, hair: 14, crew: 0, cut: 15, scrubbed: 0, face: 47, composed: 0, humble: 0, contrition: 0, bowed: 1, head: 43, submission: 0, judge: 3, went: 77, acted: 1, like: 136, wild: 4, beast: 0, jungle: 0, fortunate: 0, sexually: 0, molest: 0, poor: 7, girl: 17, put: 48, behind: 33, bar: 9, twenty: 5, year: 11, judge: 3, paused: 12, eye: 11, beneath: 2, impressively: 0, thick: 6, brow: 1, flickered: 1, slyly: 0, \n",
      "\n",
      "Kategorija news: \n",
      "amerigo: 0, bonasera: 0, sat: 2, new: 148, york: 0, criminal: 2, court: 29, number: 32, waited: 3, justice: 3, vengeance: 0, men: 47, cruelly: 0, hurt: 0, daughter: 26, tried: 17, dishonor: 0, judge: 11, formidably: 0, man: 72, rolled: 2, sleeve: 0, black: 7, robe: 0, physically: 2, chastise: 0, two: 157, young: 35, men: 47, standing: 3, bench: 6, face: 19, wa: 0, cold: 6, majestic: 2, contempt: 1, wa: 0, something: 14, false: 2, amerigo: 0, bonasera: 0, sensed: 0, yet: 10, understand: 5, acted: 2, like: 46, worst: 2, kind: 20, degenerate: 0, judge: 11, said: 402, harshly: 0, yes: 0, yes: 0, thought: 15, amerigo: 0, bonasera: 0, animal: 2, animal: 2, two: 157, young: 35, men: 47, glossy: 0, hair: 1, crew: 6, cut: 18, scrubbed: 0, face: 19, composed: 2, humble: 0, contrition: 0, bowed: 1, head: 24, submission: 0, judge: 11, went: 37, acted: 2, like: 46, wild: 5, beast: 0, jungle: 0, fortunate: 0, sexually: 0, molest: 0, poor: 6, girl: 9, put: 27, behind: 9, bar: 1, twenty: 5, year: 138, judge: 11, paused: 1, eye: 5, beneath: 1, impressively: 0, thick: 0, brow: 0, flickered: 1, slyly: 0, \n",
      "\n",
      "Kategorija religion: \n",
      "amerigo: 0, bonasera: 0, sat: 1, new: 77, york: 0, criminal: 0, court: 0, number: 33, waited: 0, justice: 9, vengeance: 1, men: 39, cruelly: 0, hurt: 0, daughter: 1, tried: 2, dishonor: 0, judge: 1, formidably: 0, man: 64, rolled: 0, sleeve: 0, black: 2, robe: 0, physically: 0, chastise: 0, two: 27, young: 4, men: 39, standing: 0, bench: 0, face: 7, wa: 0, cold: 2, majestic: 0, contempt: 0, wa: 0, something: 19, false: 2, amerigo: 0, bonasera: 0, sensed: 0, yet: 20, understand: 5, acted: 0, like: 18, worst: 2, kind: 8, degenerate: 0, judge: 1, said: 27, harshly: 0, yes: 2, yes: 2, thought: 12, amerigo: 0, bonasera: 0, animal: 2, animal: 2, two: 27, young: 4, men: 39, glossy: 0, hair: 0, crew: 0, cut: 3, scrubbed: 0, face: 7, composed: 1, humble: 1, contrition: 0, bowed: 0, head: 4, submission: 0, judge: 1, went: 6, acted: 0, like: 18, wild: 1, beast: 0, jungle: 0, fortunate: 1, sexually: 0, molest: 0, poor: 1, girl: 1, put: 16, behind: 7, bar: 0, twenty: 4, year: 8, judge: 1, paused: 0, eye: 0, beneath: 0, impressively: 0, thick: 0, brow: 0, flickered: 0, slyly: 0, \n",
      "\n",
      "Kategorija reviews: \n",
      "amerigo: 0, bonasera: 0, sat: 2, new: 42, york: 0, criminal: 1, court: 4, number: 17, waited: 0, justice: 1, vengeance: 0, men: 15, cruelly: 0, hurt: 1, daughter: 2, tried: 5, dishonor: 0, judge: 1, formidably: 1, man: 49, rolled: 0, sleeve: 1, black: 1, robe: 1, physically: 1, chastise: 0, two: 34, young: 16, men: 15, standing: 2, bench: 0, face: 4, wa: 0, cold: 2, majestic: 0, contempt: 0, wa: 0, something: 16, false: 0, amerigo: 0, bonasera: 0, sensed: 0, yet: 8, understand: 4, acted: 2, like: 36, worst: 0, kind: 13, degenerate: 0, judge: 1, said: 11, harshly: 0, yes: 0, yes: 0, thought: 6, amerigo: 0, bonasera: 0, animal: 8, animal: 8, two: 34, young: 16, men: 15, glossy: 0, hair: 4, crew: 0, cut: 6, scrubbed: 0, face: 4, composed: 4, humble: 0, contrition: 0, bowed: 0, head: 5, submission: 0, judge: 1, went: 9, acted: 2, like: 36, wild: 6, beast: 1, jungle: 0, fortunate: 1, sexually: 0, molest: 0, poor: 2, girl: 3, put: 12, behind: 7, bar: 2, twenty: 2, year: 17, judge: 1, paused: 0, eye: 4, beneath: 0, impressively: 0, thick: 2, brow: 0, flickered: 0, slyly: 0, \n",
      "\n",
      "Kategorija romance: \n",
      "amerigo: 0, bonasera: 0, sat: 32, new: 31, york: 0, criminal: 0, court: 2, number: 4, waited: 16, justice: 0, vengeance: 0, men: 29, cruelly: 0, hurt: 7, daughter: 7, tried: 22, dishonor: 0, judge: 0, formidably: 0, man: 87, rolled: 6, sleeve: 0, black: 32, robe: 2, physically: 0, chastise: 0, two: 48, young: 49, men: 29, standing: 16, bench: 9, face: 44, wa: 0, cold: 34, majestic: 0, contempt: 2, wa: 0, something: 59, false: 0, amerigo: 0, bonasera: 0, sensed: 2, yet: 21, understand: 14, acted: 0, like: 185, worst: 3, kind: 34, degenerate: 0, judge: 0, said: 330, harshly: 0, yes: 10, yes: 10, thought: 105, amerigo: 0, bonasera: 0, animal: 5, animal: 5, two: 48, young: 49, men: 29, glossy: 0, hair: 30, crew: 2, cut: 6, scrubbed: 0, face: 44, composed: 0, humble: 0, contrition: 0, bowed: 1, head: 46, submission: 0, judge: 0, went: 82, acted: 0, like: 185, wild: 4, beast: 1, jungle: 0, fortunate: 1, sexually: 0, molest: 0, poor: 8, girl: 26, put: 49, behind: 15, bar: 3, twenty: 7, year: 14, judge: 0, paused: 3, eye: 11, beneath: 6, impressively: 0, thick: 9, brow: 2, flickered: 0, slyly: 2, \n",
      "\n",
      "Kategorija science_fiction: \n",
      "amerigo: 0, bonasera: 0, sat: 3, new: 9, york: 0, criminal: 0, court: 0, number: 3, waited: 1, justice: 1, vengeance: 0, men: 5, cruelly: 0, hurt: 3, daughter: 0, tried: 6, dishonor: 0, judge: 1, formidably: 0, man: 17, rolled: 2, sleeve: 0, black: 3, robe: 0, physically: 0, chastise: 0, two: 10, young: 3, men: 5, standing: 0, bench: 0, face: 8, wa: 0, cold: 2, majestic: 0, contempt: 0, wa: 0, something: 8, false: 0, amerigo: 0, bonasera: 0, sensed: 0, yet: 7, understand: 4, acted: 0, like: 25, worst: 1, kind: 8, degenerate: 0, judge: 1, said: 41, harshly: 0, yes: 0, yes: 0, thought: 11, amerigo: 0, bonasera: 0, animal: 1, animal: 1, two: 10, young: 3, men: 5, glossy: 0, hair: 1, crew: 3, cut: 3, scrubbed: 0, face: 8, composed: 0, humble: 0, contrition: 0, bowed: 0, head: 15, submission: 0, judge: 1, went: 10, acted: 0, like: 25, wild: 0, beast: 1, jungle: 0, fortunate: 0, sexually: 0, molest: 0, poor: 0, girl: 2, put: 2, behind: 3, bar: 0, twenty: 1, year: 2, judge: 1, paused: 0, eye: 1, beneath: 0, impressively: 0, thick: 0, brow: 0, flickered: 0, slyly: 0, \n",
      "\n"
     ]
    }
   ],
   "source": [
    "#11: Primjena Brown korpusa\n",
    "\n",
    "categories = brown.categories()\n",
    "\n",
    "for category in categories:\n",
    "    print(f\"Kategorija {category}: \")\n",
    "    genre_text = brown.words(categories = category)\n",
    "    freq_dist = nltk.FreqDist(genre_text)\n",
    "    for word in book_removed_stop_words[0:100]:\n",
    "        print(word + ':', freq_dist[word], end=', ')\n",
    "    print('\\n')"
   ]
  },
  {
   "cell_type": "code",
   "execution_count": 106,
   "id": "f5d798c4-9b00-4e01-9b6d-da24122a143c",
   "metadata": {},
   "outputs": [
    {
     "name": "stdout",
     "output_type": "stream",
     "text": [
      "['finally', 'her', 'attention', 'was', 'caught', 'by', 'a', 'small', 'group', 'of', 'men', 'gathered', 'around', 'a', 'wooden', 'barrel', 'of', 'homemade', 'wine', '.']\n"
     ]
    },
    {
     "data": {
      "text/plain": [
       "[('finally', 'RB'),\n",
       " ('her', 'PRP$'),\n",
       " ('attention', 'NN'),\n",
       " ('was', 'VBD'),\n",
       " ('caught', 'VBN'),\n",
       " ('by', 'IN'),\n",
       " ('a', 'DT'),\n",
       " ('small', 'JJ'),\n",
       " ('group', 'NN'),\n",
       " ('of', 'IN'),\n",
       " ('men', 'NNS'),\n",
       " ('gathered', 'VBN'),\n",
       " ('around', 'IN'),\n",
       " ('a', 'DT'),\n",
       " ('wooden', 'JJ'),\n",
       " ('barrel', 'NN'),\n",
       " ('of', 'IN'),\n",
       " ('homemade', 'JJ'),\n",
       " ('wine', 'NN'),\n",
       " ('.', '.')]"
      ]
     },
     "execution_count": 106,
     "metadata": {},
     "output_type": "execute_result"
    }
   ],
   "source": [
    "#12. Tagiranje riječi i lingvističko stablo\n",
    "\n",
    "list1 = book_tokenized[200]\n",
    "tokens1 = word_tokenize(list1)\n",
    "print(tokens1)\n",
    "list_tokens1 = nltk.pos_tag(word_tokenize(list1))\n",
    "list_tokens1"
   ]
  },
  {
   "cell_type": "code",
   "execution_count": 107,
   "id": "d0404ecb-3889-4244-822e-de0a8135152e",
   "metadata": {},
   "outputs": [
    {
     "data": {
      "image/svg+xml": [
       "<svg baseProfile=\"full\" height=\"168px\" preserveAspectRatio=\"xMidYMid meet\" style=\"font-family: times, serif; font-weight:normal; font-style: normal; font-size: 16px;\" version=\"1.1\" viewBox=\"0,0,1048.0,168.0\" width=\"1048px\" xmlns=\"http://www.w3.org/2000/svg\" xmlns:ev=\"http://www.w3.org/2001/xml-events\" xmlns:xlink=\"http://www.w3.org/1999/xlink\"><defs /><svg width=\"100%\" x=\"0\" y=\"0em\"><defs /><text text-anchor=\"middle\" x=\"50%\" y=\"1em\">S</text></svg><svg width=\"6.87023%\" x=\"0%\" y=\"3em\"><defs /><svg width=\"100%\" x=\"0\" y=\"0em\"><defs /><text text-anchor=\"middle\" x=\"50%\" y=\"1em\">finally</text></svg><svg width=\"100%\" x=\"0%\" y=\"3em\"><defs /><svg width=\"100%\" x=\"0\" y=\"0em\"><defs /><text text-anchor=\"middle\" x=\"50%\" y=\"1em\">RB</text></svg></svg><line stroke=\"black\" x1=\"50%\" x2=\"50%\" y1=\"1.2em\" y2=\"3em\" /></svg><line stroke=\"black\" x1=\"50%\" x2=\"3.43511%\" y1=\"1.2em\" y2=\"3em\" /><svg width=\"4.58015%\" x=\"6.87023%\" y=\"3em\"><defs /><svg width=\"100%\" x=\"0\" y=\"0em\"><defs /><text text-anchor=\"middle\" x=\"50%\" y=\"1em\">her</text></svg><svg width=\"100%\" x=\"0%\" y=\"3em\"><defs /><svg width=\"100%\" x=\"0\" y=\"0em\"><defs /><text text-anchor=\"middle\" x=\"50%\" y=\"1em\">PRP$</text></svg></svg><line stroke=\"black\" x1=\"50%\" x2=\"50%\" y1=\"1.2em\" y2=\"3em\" /></svg><line stroke=\"black\" x1=\"50%\" x2=\"9.16031%\" y1=\"1.2em\" y2=\"3em\" /><svg width=\"8.39695%\" x=\"11.4504%\" y=\"3em\"><defs /><svg width=\"100%\" x=\"0\" y=\"0em\"><defs /><text text-anchor=\"middle\" x=\"50%\" y=\"1em\">NP</text></svg><svg width=\"100%\" x=\"0%\" y=\"3em\"><defs /><svg width=\"100%\" x=\"0\" y=\"0em\"><defs /><text text-anchor=\"middle\" x=\"50%\" y=\"1em\">attention</text></svg><svg width=\"100%\" x=\"0%\" y=\"3em\"><defs /><svg width=\"100%\" x=\"0\" y=\"0em\"><defs /><text text-anchor=\"middle\" x=\"50%\" y=\"1em\">NN</text></svg></svg><line stroke=\"black\" x1=\"50%\" x2=\"50%\" y1=\"1.2em\" y2=\"3em\" /></svg><line stroke=\"black\" x1=\"50%\" x2=\"50%\" y1=\"1.2em\" y2=\"3em\" /></svg><line stroke=\"black\" x1=\"50%\" x2=\"15.6489%\" y1=\"1.2em\" y2=\"3em\" /><svg width=\"3.81679%\" x=\"19.8473%\" y=\"3em\"><defs /><svg width=\"100%\" x=\"0\" y=\"0em\"><defs /><text text-anchor=\"middle\" x=\"50%\" y=\"1em\">was</text></svg><svg width=\"100%\" x=\"0%\" y=\"3em\"><defs /><svg width=\"100%\" x=\"0\" y=\"0em\"><defs /><text text-anchor=\"middle\" x=\"50%\" y=\"1em\">VBD</text></svg></svg><line stroke=\"black\" x1=\"50%\" x2=\"50%\" y1=\"1.2em\" y2=\"3em\" /></svg><line stroke=\"black\" x1=\"50%\" x2=\"21.7557%\" y1=\"1.2em\" y2=\"3em\" /><svg width=\"6.10687%\" x=\"23.6641%\" y=\"3em\"><defs /><svg width=\"100%\" x=\"0\" y=\"0em\"><defs /><text text-anchor=\"middle\" x=\"50%\" y=\"1em\">caught</text></svg><svg width=\"100%\" x=\"0%\" y=\"3em\"><defs /><svg width=\"100%\" x=\"0\" y=\"0em\"><defs /><text text-anchor=\"middle\" x=\"50%\" y=\"1em\">VBN</text></svg></svg><line stroke=\"black\" x1=\"50%\" x2=\"50%\" y1=\"1.2em\" y2=\"3em\" /></svg><line stroke=\"black\" x1=\"50%\" x2=\"26.7176%\" y1=\"1.2em\" y2=\"3em\" /><svg width=\"3.05344%\" x=\"29.771%\" y=\"3em\"><defs /><svg width=\"100%\" x=\"0\" y=\"0em\"><defs /><text text-anchor=\"middle\" x=\"50%\" y=\"1em\">by</text></svg><svg width=\"100%\" x=\"0%\" y=\"3em\"><defs /><svg width=\"100%\" x=\"0\" y=\"0em\"><defs /><text text-anchor=\"middle\" x=\"50%\" y=\"1em\">IN</text></svg></svg><line stroke=\"black\" x1=\"50%\" x2=\"50%\" y1=\"1.2em\" y2=\"3em\" /></svg><line stroke=\"black\" x1=\"50%\" x2=\"31.2977%\" y1=\"1.2em\" y2=\"3em\" /><svg width=\"13.7405%\" x=\"32.8244%\" y=\"3em\"><defs /><svg width=\"100%\" x=\"0\" y=\"0em\"><defs /><text text-anchor=\"middle\" x=\"50%\" y=\"1em\">NP</text></svg><svg width=\"22.2222%\" x=\"0%\" y=\"3em\"><defs /><svg width=\"100%\" x=\"0\" y=\"0em\"><defs /><text text-anchor=\"middle\" x=\"50%\" y=\"1em\">a</text></svg><svg width=\"100%\" x=\"0%\" y=\"3em\"><defs /><svg width=\"100%\" x=\"0\" y=\"0em\"><defs /><text text-anchor=\"middle\" x=\"50%\" y=\"1em\">DT</text></svg></svg><line stroke=\"black\" x1=\"50%\" x2=\"50%\" y1=\"1.2em\" y2=\"3em\" /></svg><line stroke=\"black\" x1=\"50%\" x2=\"11.1111%\" y1=\"1.2em\" y2=\"3em\" /><svg width=\"38.8889%\" x=\"22.2222%\" y=\"3em\"><defs /><svg width=\"100%\" x=\"0\" y=\"0em\"><defs /><text text-anchor=\"middle\" x=\"50%\" y=\"1em\">small</text></svg><svg width=\"100%\" x=\"0%\" y=\"3em\"><defs /><svg width=\"100%\" x=\"0\" y=\"0em\"><defs /><text text-anchor=\"middle\" x=\"50%\" y=\"1em\">JJ</text></svg></svg><line stroke=\"black\" x1=\"50%\" x2=\"50%\" y1=\"1.2em\" y2=\"3em\" /></svg><line stroke=\"black\" x1=\"50%\" x2=\"41.6667%\" y1=\"1.2em\" y2=\"3em\" /><svg width=\"38.8889%\" x=\"61.1111%\" y=\"3em\"><defs /><svg width=\"100%\" x=\"0\" y=\"0em\"><defs /><text text-anchor=\"middle\" x=\"50%\" y=\"1em\">group</text></svg><svg width=\"100%\" x=\"0%\" y=\"3em\"><defs /><svg width=\"100%\" x=\"0\" y=\"0em\"><defs /><text text-anchor=\"middle\" x=\"50%\" y=\"1em\">NN</text></svg></svg><line stroke=\"black\" x1=\"50%\" x2=\"50%\" y1=\"1.2em\" y2=\"3em\" /></svg><line stroke=\"black\" x1=\"50%\" x2=\"80.5556%\" y1=\"1.2em\" y2=\"3em\" /></svg><line stroke=\"black\" x1=\"50%\" x2=\"39.6947%\" y1=\"1.2em\" y2=\"3em\" /><svg width=\"3.05344%\" x=\"46.5649%\" y=\"3em\"><defs /><svg width=\"100%\" x=\"0\" y=\"0em\"><defs /><text text-anchor=\"middle\" x=\"50%\" y=\"1em\">of</text></svg><svg width=\"100%\" x=\"0%\" y=\"3em\"><defs /><svg width=\"100%\" x=\"0\" y=\"0em\"><defs /><text text-anchor=\"middle\" x=\"50%\" y=\"1em\">IN</text></svg></svg><line stroke=\"black\" x1=\"50%\" x2=\"50%\" y1=\"1.2em\" y2=\"3em\" /></svg><line stroke=\"black\" x1=\"50%\" x2=\"48.0916%\" y1=\"1.2em\" y2=\"3em\" /><svg width=\"3.81679%\" x=\"49.6183%\" y=\"3em\"><defs /><svg width=\"100%\" x=\"0\" y=\"0em\"><defs /><text text-anchor=\"middle\" x=\"50%\" y=\"1em\">men</text></svg><svg width=\"100%\" x=\"0%\" y=\"3em\"><defs /><svg width=\"100%\" x=\"0\" y=\"0em\"><defs /><text text-anchor=\"middle\" x=\"50%\" y=\"1em\">NNS</text></svg></svg><line stroke=\"black\" x1=\"50%\" x2=\"50%\" y1=\"1.2em\" y2=\"3em\" /></svg><line stroke=\"black\" x1=\"50%\" x2=\"51.5267%\" y1=\"1.2em\" y2=\"3em\" /><svg width=\"7.63359%\" x=\"53.4351%\" y=\"3em\"><defs /><svg width=\"100%\" x=\"0\" y=\"0em\"><defs /><text text-anchor=\"middle\" x=\"50%\" y=\"1em\">gathered</text></svg><svg width=\"100%\" x=\"0%\" y=\"3em\"><defs /><svg width=\"100%\" x=\"0\" y=\"0em\"><defs /><text text-anchor=\"middle\" x=\"50%\" y=\"1em\">VBN</text></svg></svg><line stroke=\"black\" x1=\"50%\" x2=\"50%\" y1=\"1.2em\" y2=\"3em\" /></svg><line stroke=\"black\" x1=\"50%\" x2=\"57.2519%\" y1=\"1.2em\" y2=\"3em\" /><svg width=\"6.10687%\" x=\"61.0687%\" y=\"3em\"><defs /><svg width=\"100%\" x=\"0\" y=\"0em\"><defs /><text text-anchor=\"middle\" x=\"50%\" y=\"1em\">around</text></svg><svg width=\"100%\" x=\"0%\" y=\"3em\"><defs /><svg width=\"100%\" x=\"0\" y=\"0em\"><defs /><text text-anchor=\"middle\" x=\"50%\" y=\"1em\">IN</text></svg></svg><line stroke=\"black\" x1=\"50%\" x2=\"50%\" y1=\"1.2em\" y2=\"3em\" /></svg><line stroke=\"black\" x1=\"50%\" x2=\"64.1221%\" y1=\"1.2em\" y2=\"3em\" /><svg width=\"15.2672%\" x=\"67.1756%\" y=\"3em\"><defs /><svg width=\"100%\" x=\"0\" y=\"0em\"><defs /><text text-anchor=\"middle\" x=\"50%\" y=\"1em\">NP</text></svg><svg width=\"20%\" x=\"0%\" y=\"3em\"><defs /><svg width=\"100%\" x=\"0\" y=\"0em\"><defs /><text text-anchor=\"middle\" x=\"50%\" y=\"1em\">a</text></svg><svg width=\"100%\" x=\"0%\" y=\"3em\"><defs /><svg width=\"100%\" x=\"0\" y=\"0em\"><defs /><text text-anchor=\"middle\" x=\"50%\" y=\"1em\">DT</text></svg></svg><line stroke=\"black\" x1=\"50%\" x2=\"50%\" y1=\"1.2em\" y2=\"3em\" /></svg><line stroke=\"black\" x1=\"50%\" x2=\"10%\" y1=\"1.2em\" y2=\"3em\" /><svg width=\"40%\" x=\"20%\" y=\"3em\"><defs /><svg width=\"100%\" x=\"0\" y=\"0em\"><defs /><text text-anchor=\"middle\" x=\"50%\" y=\"1em\">wooden</text></svg><svg width=\"100%\" x=\"0%\" y=\"3em\"><defs /><svg width=\"100%\" x=\"0\" y=\"0em\"><defs /><text text-anchor=\"middle\" x=\"50%\" y=\"1em\">JJ</text></svg></svg><line stroke=\"black\" x1=\"50%\" x2=\"50%\" y1=\"1.2em\" y2=\"3em\" /></svg><line stroke=\"black\" x1=\"50%\" x2=\"40%\" y1=\"1.2em\" y2=\"3em\" /><svg width=\"40%\" x=\"60%\" y=\"3em\"><defs /><svg width=\"100%\" x=\"0\" y=\"0em\"><defs /><text text-anchor=\"middle\" x=\"50%\" y=\"1em\">barrel</text></svg><svg width=\"100%\" x=\"0%\" y=\"3em\"><defs /><svg width=\"100%\" x=\"0\" y=\"0em\"><defs /><text text-anchor=\"middle\" x=\"50%\" y=\"1em\">NN</text></svg></svg><line stroke=\"black\" x1=\"50%\" x2=\"50%\" y1=\"1.2em\" y2=\"3em\" /></svg><line stroke=\"black\" x1=\"50%\" x2=\"80%\" y1=\"1.2em\" y2=\"3em\" /></svg><line stroke=\"black\" x1=\"50%\" x2=\"74.8092%\" y1=\"1.2em\" y2=\"3em\" /><svg width=\"3.05344%\" x=\"82.4427%\" y=\"3em\"><defs /><svg width=\"100%\" x=\"0\" y=\"0em\"><defs /><text text-anchor=\"middle\" x=\"50%\" y=\"1em\">of</text></svg><svg width=\"100%\" x=\"0%\" y=\"3em\"><defs /><svg width=\"100%\" x=\"0\" y=\"0em\"><defs /><text text-anchor=\"middle\" x=\"50%\" y=\"1em\">IN</text></svg></svg><line stroke=\"black\" x1=\"50%\" x2=\"50%\" y1=\"1.2em\" y2=\"3em\" /></svg><line stroke=\"black\" x1=\"50%\" x2=\"83.9695%\" y1=\"1.2em\" y2=\"3em\" /><svg width=\"12.2137%\" x=\"85.4962%\" y=\"3em\"><defs /><svg width=\"100%\" x=\"0\" y=\"0em\"><defs /><text text-anchor=\"middle\" x=\"50%\" y=\"1em\">NP</text></svg><svg width=\"62.5%\" x=\"0%\" y=\"3em\"><defs /><svg width=\"100%\" x=\"0\" y=\"0em\"><defs /><text text-anchor=\"middle\" x=\"50%\" y=\"1em\">homemade</text></svg><svg width=\"100%\" x=\"0%\" y=\"3em\"><defs /><svg width=\"100%\" x=\"0\" y=\"0em\"><defs /><text text-anchor=\"middle\" x=\"50%\" y=\"1em\">JJ</text></svg></svg><line stroke=\"black\" x1=\"50%\" x2=\"50%\" y1=\"1.2em\" y2=\"3em\" /></svg><line stroke=\"black\" x1=\"50%\" x2=\"31.25%\" y1=\"1.2em\" y2=\"3em\" /><svg width=\"37.5%\" x=\"62.5%\" y=\"3em\"><defs /><svg width=\"100%\" x=\"0\" y=\"0em\"><defs /><text text-anchor=\"middle\" x=\"50%\" y=\"1em\">wine</text></svg><svg width=\"100%\" x=\"0%\" y=\"3em\"><defs /><svg width=\"100%\" x=\"0\" y=\"0em\"><defs /><text text-anchor=\"middle\" x=\"50%\" y=\"1em\">NN</text></svg></svg><line stroke=\"black\" x1=\"50%\" x2=\"50%\" y1=\"1.2em\" y2=\"3em\" /></svg><line stroke=\"black\" x1=\"50%\" x2=\"81.25%\" y1=\"1.2em\" y2=\"3em\" /></svg><line stroke=\"black\" x1=\"50%\" x2=\"91.6031%\" y1=\"1.2em\" y2=\"3em\" /><svg width=\"2.29008%\" x=\"97.7099%\" y=\"3em\"><defs /><svg width=\"100%\" x=\"0\" y=\"0em\"><defs /><text text-anchor=\"middle\" x=\"50%\" y=\"1em\">.</text></svg><svg width=\"100%\" x=\"0%\" y=\"3em\"><defs /><svg width=\"100%\" x=\"0\" y=\"0em\"><defs /><text text-anchor=\"middle\" x=\"50%\" y=\"1em\">.</text></svg></svg><line stroke=\"black\" x1=\"50%\" x2=\"50%\" y1=\"1.2em\" y2=\"3em\" /></svg><line stroke=\"black\" x1=\"50%\" x2=\"98.855%\" y1=\"1.2em\" y2=\"3em\" /></svg>"
      ],
      "text/plain": [
       "Tree('S', [('finally', 'RB'), ('her', 'PRP$'), Tree('NP', [('attention', 'NN')]), ('was', 'VBD'), ('caught', 'VBN'), ('by', 'IN'), Tree('NP', [('a', 'DT'), ('small', 'JJ'), ('group', 'NN')]), ('of', 'IN'), ('men', 'NNS'), ('gathered', 'VBN'), ('around', 'IN'), Tree('NP', [('a', 'DT'), ('wooden', 'JJ'), ('barrel', 'NN')]), ('of', 'IN'), Tree('NP', [('homemade', 'JJ'), ('wine', 'NN')]), ('.', '.')])"
      ]
     },
     "execution_count": 107,
     "metadata": {},
     "output_type": "execute_result"
    }
   ],
   "source": [
    "grammar_np = r\"NP: {<DT>?<JJ>*<NN>}\" \n",
    "parser1 = nltk.RegexpParser(grammar_np)\n",
    "result1 = parser1.parse(sent_tokens1)\n",
    "result1"
   ]
  },
  {
   "cell_type": "code",
   "execution_count": 108,
   "id": "8e3cfa65-999b-46d2-a848-9112b2db3761",
   "metadata": {},
   "outputs": [
    {
     "data": {
      "image/svg+xml": [
       "<svg baseProfile=\"full\" height=\"168px\" preserveAspectRatio=\"xMidYMid meet\" style=\"font-family: times, serif; font-weight:normal; font-style: normal; font-size: 16px;\" version=\"1.1\" viewBox=\"0,0,1048.0,168.0\" width=\"1048px\" xmlns=\"http://www.w3.org/2000/svg\" xmlns:ev=\"http://www.w3.org/2001/xml-events\" xmlns:xlink=\"http://www.w3.org/1999/xlink\"><defs /><svg width=\"100%\" x=\"0\" y=\"0em\"><defs /><text text-anchor=\"middle\" x=\"50%\" y=\"1em\">S</text></svg><svg width=\"6.87023%\" x=\"0%\" y=\"3em\"><defs /><svg width=\"100%\" x=\"0\" y=\"0em\"><defs /><text text-anchor=\"middle\" x=\"50%\" y=\"1em\">VP</text></svg><svg width=\"100%\" x=\"0%\" y=\"3em\"><defs /><svg width=\"100%\" x=\"0\" y=\"0em\"><defs /><text text-anchor=\"middle\" x=\"50%\" y=\"1em\">finally</text></svg><svg width=\"100%\" x=\"0%\" y=\"3em\"><defs /><svg width=\"100%\" x=\"0\" y=\"0em\"><defs /><text text-anchor=\"middle\" x=\"50%\" y=\"1em\">RB</text></svg></svg><line stroke=\"black\" x1=\"50%\" x2=\"50%\" y1=\"1.2em\" y2=\"3em\" /></svg><line stroke=\"black\" x1=\"50%\" x2=\"50%\" y1=\"1.2em\" y2=\"3em\" /></svg><line stroke=\"black\" x1=\"50%\" x2=\"3.43511%\" y1=\"1.2em\" y2=\"3em\" /><svg width=\"4.58015%\" x=\"6.87023%\" y=\"3em\"><defs /><svg width=\"100%\" x=\"0\" y=\"0em\"><defs /><text text-anchor=\"middle\" x=\"50%\" y=\"1em\">her</text></svg><svg width=\"100%\" x=\"0%\" y=\"3em\"><defs /><svg width=\"100%\" x=\"0\" y=\"0em\"><defs /><text text-anchor=\"middle\" x=\"50%\" y=\"1em\">PRP$</text></svg></svg><line stroke=\"black\" x1=\"50%\" x2=\"50%\" y1=\"1.2em\" y2=\"3em\" /></svg><line stroke=\"black\" x1=\"50%\" x2=\"9.16031%\" y1=\"1.2em\" y2=\"3em\" /><svg width=\"8.39695%\" x=\"11.4504%\" y=\"3em\"><defs /><svg width=\"100%\" x=\"0\" y=\"0em\"><defs /><text text-anchor=\"middle\" x=\"50%\" y=\"1em\">attention</text></svg><svg width=\"100%\" x=\"0%\" y=\"3em\"><defs /><svg width=\"100%\" x=\"0\" y=\"0em\"><defs /><text text-anchor=\"middle\" x=\"50%\" y=\"1em\">NN</text></svg></svg><line stroke=\"black\" x1=\"50%\" x2=\"50%\" y1=\"1.2em\" y2=\"3em\" /></svg><line stroke=\"black\" x1=\"50%\" x2=\"15.6489%\" y1=\"1.2em\" y2=\"3em\" /><svg width=\"3.81679%\" x=\"19.8473%\" y=\"3em\"><defs /><svg width=\"100%\" x=\"0\" y=\"0em\"><defs /><text text-anchor=\"middle\" x=\"50%\" y=\"1em\">VP</text></svg><svg width=\"100%\" x=\"0%\" y=\"3em\"><defs /><svg width=\"100%\" x=\"0\" y=\"0em\"><defs /><text text-anchor=\"middle\" x=\"50%\" y=\"1em\">was</text></svg><svg width=\"100%\" x=\"0%\" y=\"3em\"><defs /><svg width=\"100%\" x=\"0\" y=\"0em\"><defs /><text text-anchor=\"middle\" x=\"50%\" y=\"1em\">VBD</text></svg></svg><line stroke=\"black\" x1=\"50%\" x2=\"50%\" y1=\"1.2em\" y2=\"3em\" /></svg><line stroke=\"black\" x1=\"50%\" x2=\"50%\" y1=\"1.2em\" y2=\"3em\" /></svg><line stroke=\"black\" x1=\"50%\" x2=\"21.7557%\" y1=\"1.2em\" y2=\"3em\" /><svg width=\"6.10687%\" x=\"23.6641%\" y=\"3em\"><defs /><svg width=\"100%\" x=\"0\" y=\"0em\"><defs /><text text-anchor=\"middle\" x=\"50%\" y=\"1em\">caught</text></svg><svg width=\"100%\" x=\"0%\" y=\"3em\"><defs /><svg width=\"100%\" x=\"0\" y=\"0em\"><defs /><text text-anchor=\"middle\" x=\"50%\" y=\"1em\">VBN</text></svg></svg><line stroke=\"black\" x1=\"50%\" x2=\"50%\" y1=\"1.2em\" y2=\"3em\" /></svg><line stroke=\"black\" x1=\"50%\" x2=\"26.7176%\" y1=\"1.2em\" y2=\"3em\" /><svg width=\"3.05344%\" x=\"29.771%\" y=\"3em\"><defs /><svg width=\"100%\" x=\"0\" y=\"0em\"><defs /><text text-anchor=\"middle\" x=\"50%\" y=\"1em\">by</text></svg><svg width=\"100%\" x=\"0%\" y=\"3em\"><defs /><svg width=\"100%\" x=\"0\" y=\"0em\"><defs /><text text-anchor=\"middle\" x=\"50%\" y=\"1em\">IN</text></svg></svg><line stroke=\"black\" x1=\"50%\" x2=\"50%\" y1=\"1.2em\" y2=\"3em\" /></svg><line stroke=\"black\" x1=\"50%\" x2=\"31.2977%\" y1=\"1.2em\" y2=\"3em\" /><svg width=\"3.05344%\" x=\"32.8244%\" y=\"3em\"><defs /><svg width=\"100%\" x=\"0\" y=\"0em\"><defs /><text text-anchor=\"middle\" x=\"50%\" y=\"1em\">a</text></svg><svg width=\"100%\" x=\"0%\" y=\"3em\"><defs /><svg width=\"100%\" x=\"0\" y=\"0em\"><defs /><text text-anchor=\"middle\" x=\"50%\" y=\"1em\">DT</text></svg></svg><line stroke=\"black\" x1=\"50%\" x2=\"50%\" y1=\"1.2em\" y2=\"3em\" /></svg><line stroke=\"black\" x1=\"50%\" x2=\"34.3511%\" y1=\"1.2em\" y2=\"3em\" /><svg width=\"5.34351%\" x=\"35.8779%\" y=\"3em\"><defs /><svg width=\"100%\" x=\"0\" y=\"0em\"><defs /><text text-anchor=\"middle\" x=\"50%\" y=\"1em\">small</text></svg><svg width=\"100%\" x=\"0%\" y=\"3em\"><defs /><svg width=\"100%\" x=\"0\" y=\"0em\"><defs /><text text-anchor=\"middle\" x=\"50%\" y=\"1em\">JJ</text></svg></svg><line stroke=\"black\" x1=\"50%\" x2=\"50%\" y1=\"1.2em\" y2=\"3em\" /></svg><line stroke=\"black\" x1=\"50%\" x2=\"38.5496%\" y1=\"1.2em\" y2=\"3em\" /><svg width=\"5.34351%\" x=\"41.2214%\" y=\"3em\"><defs /><svg width=\"100%\" x=\"0\" y=\"0em\"><defs /><text text-anchor=\"middle\" x=\"50%\" y=\"1em\">group</text></svg><svg width=\"100%\" x=\"0%\" y=\"3em\"><defs /><svg width=\"100%\" x=\"0\" y=\"0em\"><defs /><text text-anchor=\"middle\" x=\"50%\" y=\"1em\">NN</text></svg></svg><line stroke=\"black\" x1=\"50%\" x2=\"50%\" y1=\"1.2em\" y2=\"3em\" /></svg><line stroke=\"black\" x1=\"50%\" x2=\"43.8931%\" y1=\"1.2em\" y2=\"3em\" /><svg width=\"3.05344%\" x=\"46.5649%\" y=\"3em\"><defs /><svg width=\"100%\" x=\"0\" y=\"0em\"><defs /><text text-anchor=\"middle\" x=\"50%\" y=\"1em\">of</text></svg><svg width=\"100%\" x=\"0%\" y=\"3em\"><defs /><svg width=\"100%\" x=\"0\" y=\"0em\"><defs /><text text-anchor=\"middle\" x=\"50%\" y=\"1em\">IN</text></svg></svg><line stroke=\"black\" x1=\"50%\" x2=\"50%\" y1=\"1.2em\" y2=\"3em\" /></svg><line stroke=\"black\" x1=\"50%\" x2=\"48.0916%\" y1=\"1.2em\" y2=\"3em\" /><svg width=\"3.81679%\" x=\"49.6183%\" y=\"3em\"><defs /><svg width=\"100%\" x=\"0\" y=\"0em\"><defs /><text text-anchor=\"middle\" x=\"50%\" y=\"1em\">men</text></svg><svg width=\"100%\" x=\"0%\" y=\"3em\"><defs /><svg width=\"100%\" x=\"0\" y=\"0em\"><defs /><text text-anchor=\"middle\" x=\"50%\" y=\"1em\">NNS</text></svg></svg><line stroke=\"black\" x1=\"50%\" x2=\"50%\" y1=\"1.2em\" y2=\"3em\" /></svg><line stroke=\"black\" x1=\"50%\" x2=\"51.5267%\" y1=\"1.2em\" y2=\"3em\" /><svg width=\"7.63359%\" x=\"53.4351%\" y=\"3em\"><defs /><svg width=\"100%\" x=\"0\" y=\"0em\"><defs /><text text-anchor=\"middle\" x=\"50%\" y=\"1em\">gathered</text></svg><svg width=\"100%\" x=\"0%\" y=\"3em\"><defs /><svg width=\"100%\" x=\"0\" y=\"0em\"><defs /><text text-anchor=\"middle\" x=\"50%\" y=\"1em\">VBN</text></svg></svg><line stroke=\"black\" x1=\"50%\" x2=\"50%\" y1=\"1.2em\" y2=\"3em\" /></svg><line stroke=\"black\" x1=\"50%\" x2=\"57.2519%\" y1=\"1.2em\" y2=\"3em\" /><svg width=\"6.10687%\" x=\"61.0687%\" y=\"3em\"><defs /><svg width=\"100%\" x=\"0\" y=\"0em\"><defs /><text text-anchor=\"middle\" x=\"50%\" y=\"1em\">around</text></svg><svg width=\"100%\" x=\"0%\" y=\"3em\"><defs /><svg width=\"100%\" x=\"0\" y=\"0em\"><defs /><text text-anchor=\"middle\" x=\"50%\" y=\"1em\">IN</text></svg></svg><line stroke=\"black\" x1=\"50%\" x2=\"50%\" y1=\"1.2em\" y2=\"3em\" /></svg><line stroke=\"black\" x1=\"50%\" x2=\"64.1221%\" y1=\"1.2em\" y2=\"3em\" /><svg width=\"3.05344%\" x=\"67.1756%\" y=\"3em\"><defs /><svg width=\"100%\" x=\"0\" y=\"0em\"><defs /><text text-anchor=\"middle\" x=\"50%\" y=\"1em\">a</text></svg><svg width=\"100%\" x=\"0%\" y=\"3em\"><defs /><svg width=\"100%\" x=\"0\" y=\"0em\"><defs /><text text-anchor=\"middle\" x=\"50%\" y=\"1em\">DT</text></svg></svg><line stroke=\"black\" x1=\"50%\" x2=\"50%\" y1=\"1.2em\" y2=\"3em\" /></svg><line stroke=\"black\" x1=\"50%\" x2=\"68.7023%\" y1=\"1.2em\" y2=\"3em\" /><svg width=\"6.10687%\" x=\"70.229%\" y=\"3em\"><defs /><svg width=\"100%\" x=\"0\" y=\"0em\"><defs /><text text-anchor=\"middle\" x=\"50%\" y=\"1em\">wooden</text></svg><svg width=\"100%\" x=\"0%\" y=\"3em\"><defs /><svg width=\"100%\" x=\"0\" y=\"0em\"><defs /><text text-anchor=\"middle\" x=\"50%\" y=\"1em\">JJ</text></svg></svg><line stroke=\"black\" x1=\"50%\" x2=\"50%\" y1=\"1.2em\" y2=\"3em\" /></svg><line stroke=\"black\" x1=\"50%\" x2=\"73.2824%\" y1=\"1.2em\" y2=\"3em\" /><svg width=\"6.10687%\" x=\"76.3359%\" y=\"3em\"><defs /><svg width=\"100%\" x=\"0\" y=\"0em\"><defs /><text text-anchor=\"middle\" x=\"50%\" y=\"1em\">barrel</text></svg><svg width=\"100%\" x=\"0%\" y=\"3em\"><defs /><svg width=\"100%\" x=\"0\" y=\"0em\"><defs /><text text-anchor=\"middle\" x=\"50%\" y=\"1em\">NN</text></svg></svg><line stroke=\"black\" x1=\"50%\" x2=\"50%\" y1=\"1.2em\" y2=\"3em\" /></svg><line stroke=\"black\" x1=\"50%\" x2=\"79.3893%\" y1=\"1.2em\" y2=\"3em\" /><svg width=\"3.05344%\" x=\"82.4427%\" y=\"3em\"><defs /><svg width=\"100%\" x=\"0\" y=\"0em\"><defs /><text text-anchor=\"middle\" x=\"50%\" y=\"1em\">of</text></svg><svg width=\"100%\" x=\"0%\" y=\"3em\"><defs /><svg width=\"100%\" x=\"0\" y=\"0em\"><defs /><text text-anchor=\"middle\" x=\"50%\" y=\"1em\">IN</text></svg></svg><line stroke=\"black\" x1=\"50%\" x2=\"50%\" y1=\"1.2em\" y2=\"3em\" /></svg><line stroke=\"black\" x1=\"50%\" x2=\"83.9695%\" y1=\"1.2em\" y2=\"3em\" /><svg width=\"7.63359%\" x=\"85.4962%\" y=\"3em\"><defs /><svg width=\"100%\" x=\"0\" y=\"0em\"><defs /><text text-anchor=\"middle\" x=\"50%\" y=\"1em\">homemade</text></svg><svg width=\"100%\" x=\"0%\" y=\"3em\"><defs /><svg width=\"100%\" x=\"0\" y=\"0em\"><defs /><text text-anchor=\"middle\" x=\"50%\" y=\"1em\">JJ</text></svg></svg><line stroke=\"black\" x1=\"50%\" x2=\"50%\" y1=\"1.2em\" y2=\"3em\" /></svg><line stroke=\"black\" x1=\"50%\" x2=\"89.313%\" y1=\"1.2em\" y2=\"3em\" /><svg width=\"4.58015%\" x=\"93.1298%\" y=\"3em\"><defs /><svg width=\"100%\" x=\"0\" y=\"0em\"><defs /><text text-anchor=\"middle\" x=\"50%\" y=\"1em\">wine</text></svg><svg width=\"100%\" x=\"0%\" y=\"3em\"><defs /><svg width=\"100%\" x=\"0\" y=\"0em\"><defs /><text text-anchor=\"middle\" x=\"50%\" y=\"1em\">NN</text></svg></svg><line stroke=\"black\" x1=\"50%\" x2=\"50%\" y1=\"1.2em\" y2=\"3em\" /></svg><line stroke=\"black\" x1=\"50%\" x2=\"95.4198%\" y1=\"1.2em\" y2=\"3em\" /><svg width=\"2.29008%\" x=\"97.7099%\" y=\"3em\"><defs /><svg width=\"100%\" x=\"0\" y=\"0em\"><defs /><text text-anchor=\"middle\" x=\"50%\" y=\"1em\">.</text></svg><svg width=\"100%\" x=\"0%\" y=\"3em\"><defs /><svg width=\"100%\" x=\"0\" y=\"0em\"><defs /><text text-anchor=\"middle\" x=\"50%\" y=\"1em\">.</text></svg></svg><line stroke=\"black\" x1=\"50%\" x2=\"50%\" y1=\"1.2em\" y2=\"3em\" /></svg><line stroke=\"black\" x1=\"50%\" x2=\"98.855%\" y1=\"1.2em\" y2=\"3em\" /></svg>"
      ],
      "text/plain": [
       "Tree('S', [Tree('VP', [('finally', 'RB')]), ('her', 'PRP$'), ('attention', 'NN'), Tree('VP', [('was', 'VBD')]), ('caught', 'VBN'), ('by', 'IN'), ('a', 'DT'), ('small', 'JJ'), ('group', 'NN'), ('of', 'IN'), ('men', 'NNS'), ('gathered', 'VBN'), ('around', 'IN'), ('a', 'DT'), ('wooden', 'JJ'), ('barrel', 'NN'), ('of', 'IN'), ('homemade', 'JJ'), ('wine', 'NN'), ('.', '.')])"
      ]
     },
     "execution_count": 108,
     "metadata": {},
     "output_type": "execute_result"
    }
   ],
   "source": [
    "grammar_vp = r\"VP: {<PRP>?<VB|VBD|VBZ|VBG>*<RB|RBR>?}\"\n",
    "parser2 = nltk.RegexpParser(grammar_vp)\n",
    "list2 = list1\n",
    "list_tokens2 = nltk.pos_tag(word_tokenize(list2))\n",
    "list_tokens2\n",
    "result2 = parser2.parse(list_tokens2)\n",
    "result2"
   ]
  },
  {
   "cell_type": "code",
   "execution_count": null,
   "id": "cf427f3c-21eb-4329-b73c-aa396e1328ad",
   "metadata": {},
   "outputs": [],
   "source": []
  }
 ],
 "metadata": {
  "kernelspec": {
   "display_name": "Python 3 (ipykernel)",
   "language": "python",
   "name": "python3"
  },
  "language_info": {
   "codemirror_mode": {
    "name": "ipython",
    "version": 3
   },
   "file_extension": ".py",
   "mimetype": "text/x-python",
   "name": "python",
   "nbconvert_exporter": "python",
   "pygments_lexer": "ipython3",
   "version": "3.10.6"
  }
 },
 "nbformat": 4,
 "nbformat_minor": 5
}
