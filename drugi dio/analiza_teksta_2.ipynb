{
 "cells": [
  {
   "cell_type": "code",
   "execution_count": 1,
   "id": "68dadb7e-f1a0-4264-82b7-b7df5b15b3a8",
   "metadata": {},
   "outputs": [
    {
     "name": "stderr",
     "output_type": "stream",
     "text": [
      "[nltk_data] Downloading package punkt to\n",
      "[nltk_data]     C:\\Users\\Maks\\AppData\\Roaming\\nltk_data...\n",
      "[nltk_data]   Package punkt is already up-to-date!\n",
      "[nltk_data] Downloading package wordnet to\n",
      "[nltk_data]     C:\\Users\\Maks\\AppData\\Roaming\\nltk_data...\n",
      "[nltk_data]   Package wordnet is already up-to-date!\n",
      "[nltk_data] Downloading package stopwords to\n",
      "[nltk_data]     C:\\Users\\Maks\\AppData\\Roaming\\nltk_data...\n",
      "[nltk_data]   Package stopwords is already up-to-date!\n",
      "[nltk_data] Downloading package brown to\n",
      "[nltk_data]     C:\\Users\\Maks\\AppData\\Roaming\\nltk_data...\n",
      "[nltk_data]   Package brown is already up-to-date!\n",
      "[nltk_data] Downloading package averaged_perceptron_tagger to\n",
      "[nltk_data]     C:\\Users\\Maks\\AppData\\Roaming\\nltk_data...\n",
      "[nltk_data]   Package averaged_perceptron_tagger is already up-to-\n",
      "[nltk_data]       date!\n",
      "[nltk_data] Downloading package omw-1.4 to\n",
      "[nltk_data]     C:\\Users\\Maks\\AppData\\Roaming\\nltk_data...\n",
      "[nltk_data]   Package omw-1.4 is already up-to-date!\n"
     ]
    }
   ],
   "source": [
    "#Svi importovi\n",
    "import nltk\n",
    "import subprocess\n",
    "import nltk.corpus  \n",
    "from nltk import sent_tokenize, word_tokenize\n",
    "from nltk.corpus import stopwords, brown\n",
    "from collections import Counter\n",
    "from nltk.text import Text \n",
    "import os\n",
    "nltk.download('punkt')\n",
    "nltk.download('wordnet')\n",
    "nltk.download('stopwords')\n",
    "nltk.download('brown')\n",
    "nltk.download('averaged_perceptron_tagger')\n",
    "nltk.download('omw-1.4')\n",
    "path_to_gs = \"C:\\Program Files\\gs\\gs9.56.1\"\n",
    "os.environ['PATH']+=os.pathsep + path_to_gs"
   ]
  },
  {
   "cell_type": "code",
   "execution_count": 2,
   "id": "382ce3c1-8228-4e32-affc-665bd93c5203",
   "metadata": {},
   "outputs": [],
   "source": [
    "# Učitavanje knjige\n",
    "book = open(\"godfather_2.txt\", \"r\", encoding = \"UTF-8\")\n",
    "book_txt = book.read()"
   ]
  },
  {
   "cell_type": "code",
   "execution_count": 3,
   "id": "173931b4-ebb7-4366-965e-97ff8a322d7a",
   "metadata": {},
   "outputs": [
    {
     "name": "stdout",
     "output_type": "stream",
     "text": [
      "chapter twelve \n",
      "\n",
      "\n",
      "jo hn nt fontane wavcd a casual dismissal to the manservant \n",
      "and said, ‘ sec you in the morning, billy. ’ itie coloured butler \n",
      "bowed his way out of the huge dining room-living room with \n",
      "its view of the pacific ocean. it was a friendly-goodbye sort of \n",
      "bow, not a servant's bow, an\n"
     ]
    }
   ],
   "source": [
    "#1. Normalizacija\n",
    "book_lowercase = book_txt.lower()\n",
    "print(book_lowercase[0:300])"
   ]
  },
  {
   "cell_type": "code",
   "execution_count": 4,
   "id": "c5bd7e8b-1fc9-4876-b0ca-1103c2fa1f32",
   "metadata": {},
   "outputs": [
    {
     "name": "stdout",
     "output_type": "stream",
     "text": [
      "Broj rečenica:  1844\n",
      "Broj tokena:  34448\n"
     ]
    }
   ],
   "source": [
    "#2. Tokenizacija\n",
    "book_tokenized = sent_tokenize(book_lowercase)\n",
    "print('Broj rečenica: ', len(book_tokenized))\n",
    "\n",
    "book_tokens = word_tokenize(book_lowercase)\n",
    "print('Broj tokena: ', len(book_tokens))"
   ]
  },
  {
   "cell_type": "code",
   "execution_count": 5,
   "id": "f05b1559-76f3-493f-9faf-43baaec5d333",
   "metadata": {},
   "outputs": [
    {
     "name": "stdout",
     "output_type": "stream",
     "text": [
      "Broj tokena nakon pročišćavanja:  29248\n"
     ]
    }
   ],
   "source": [
    "#3. Pročišćavanje teksta\n",
    "book_tokens_clean = [word for word in book_tokens if word.isalpha()]\n",
    "print('Broj tokena nakon pročišćavanja: ', len(book_tokens_clean))"
   ]
  },
  {
   "cell_type": "code",
   "execution_count": 6,
   "id": "3d16f832-0dbe-4f80-b434-778a292918f3",
   "metadata": {},
   "outputs": [
    {
     "name": "stdout",
     "output_type": "stream",
     "text": [
      "['chapter', 'twelv', 'jo', 'hn', 'nt', 'fontan', 'wavcd', 'a', 'casual', 'dismiss', 'to', 'the', 'manserv', 'and', 'said', 'sec', 'you', 'in', 'the', 'morn', 'billi', 'iti', 'colour', 'butler', 'bow', 'hi', 'way', 'out', 'of', 'the', 'huge', 'dine', 'room', 'with', 'it', 'view', 'of', 'the', 'pacif', 'ocean', 'it', 'wa', 'a', 'sort', 'of', 'bow', 'not', 'a', 'servant', 'bow', 'and', 'given', 'onli', 'becaus', 'johnni', 'fontan', 'had', 'compani', 'for', 'dinner', 'johnni', 'compani', 'wa', 'a', 'girl', 'name', 'sharon', 'moor', 'a', 'new', 'york', 'qti', 'greenwich', 'villag', 'girl', 'in', 'hollywood', 'to', 'tri', 'for', 'a', 'small', 'part', 'in', 'a', 'movi', 'be', 'produc', 'by', 'an', 'old', 'flame', 'who', 'had', 'made', 'the', 'big', 'time', 'she', 'had']\n"
     ]
    }
   ],
   "source": [
    "#4. Stemming\n",
    "book_stemmed = []\n",
    "ps = nltk.PorterStemmer()\n",
    "for word in book_tokens_clean:\n",
    "    book_stemmed.append(ps.stem(word))\n",
    "    \n",
    "print(book_stemmed[0:100])"
   ]
  },
  {
   "cell_type": "code",
   "execution_count": 7,
   "id": "1802e2d2-45ad-495b-aa03-f3e9b91e762c",
   "metadata": {},
   "outputs": [
    {
     "name": "stdout",
     "output_type": "stream",
     "text": [
      "['chapter', 'twelve', 'jo', 'hn', 'nt', 'fontane', 'wavcd', 'a', 'casual', 'dismissal', 'to', 'the', 'manservant', 'and', 'said', 'sec', 'you', 'in', 'the', 'morning', 'billy', 'itie', 'coloured', 'butler', 'bowed', 'his', 'way', 'out', 'of', 'the', 'huge', 'dining', 'room', 'with', 'it', 'view', 'of', 'the', 'pacific', 'ocean', 'it', 'wa', 'a', 'sort', 'of', 'bow', 'not', 'a', 'servant', 'bow']\n"
     ]
    }
   ],
   "source": [
    "#5. Lematizacija\n",
    "wnl = nltk.WordNetLemmatizer()\n",
    "book_lemmatized = []\n",
    "for word in book_tokens_clean:\n",
    "    book_lemmatized.append(wnl.lemmatize(word))\n",
    "\n",
    "print(book_lemmatized[0:50])"
   ]
  },
  {
   "cell_type": "code",
   "execution_count": 8,
   "id": "68810157-4fe4-482a-9c3b-e5a2c3b10aad",
   "metadata": {},
   "outputs": [
    {
     "name": "stdout",
     "output_type": "stream",
     "text": [
      "['chapter', 'twelve', 'jo', 'hn', 'nt', 'fontane', 'wavcd', 'casual', 'dismissal', 'manservant', 'said', 'sec', 'morning', 'billy', 'itie', 'coloured', 'butler', 'bowed', 'way', 'huge', 'dining', 'room', 'view', 'pacific', 'ocean', 'wa', 'sort', 'bow', 'servant', 'bow', 'given', 'johnny', 'fontane', 'company', 'dinner', 'johnny', 'company', 'wa', 'girl', 'named', 'sharon', 'moore', 'new', 'york', 'qty', 'greenwich', 'village', 'girl', 'hollywood', 'try']\n"
     ]
    }
   ],
   "source": [
    "#6. Uklanjanje stop riječi\n",
    "book_removed_stop_words = [token for token in book_lemmatized if not token in stopwords.words(\"english\")]\n",
    "print(book_removed_stop_words[0:50])"
   ]
  },
  {
   "cell_type": "code",
   "execution_count": 9,
   "id": "83730fbf-797a-408d-a122-4280a170d6eb",
   "metadata": {},
   "outputs": [
    {
     "name": "stdout",
     "output_type": "stream",
     "text": [
      "[('wa', 488), ('said', 189), ('johnny', 184), ('vito', 144), ('would', 124), ('corleone', 122), ('could', 108), ('one', 95), ('nino', 92), ('man', 88)]\n"
     ]
    },
    {
     "data": {
      "image/png": "[encoded data removed]",
      "text/plain": [
       "<Figure size 640x480 with 1 Axes>"
      ]
     },
     "metadata": {},
     "output_type": "display_data"
    },
    {
     "data": {
      "text/plain": [
       "<AxesSubplot:title={'center':'Frekvencije riječi'}, xlabel='Samples', ylabel='Counts'>"
      ]
     },
     "execution_count": 9,
     "metadata": {},
     "output_type": "execute_result"
    }
   ],
   "source": [
    "#7. Frekvencije riječi\n",
    "\n",
    "word_count = Counter(book_removed_stop_words)\n",
    "print(word_count.most_common(10))\n",
    "\n",
    "fd = nltk.FreqDist(book_removed_stop_words)\n",
    "frequency = fd.most_common(10)\n",
    "fd.plot(10,title='Frekvencije riječi')"
   ]
  },
  {
   "cell_type": "code",
   "execution_count": 10,
   "id": "dc91cca8-b3c4-469b-91e9-9d8cb3dd1c82",
   "metadata": {},
   "outputs": [
    {
     "name": "stdout",
     "output_type": "stream",
     "text": [
      "Displaying 25 of 488 matches:\n",
      "y huge dining room view pacific ocean wa sort bow servant bow given johnny fon\n",
      "fontane company dinner johnny company wa girl named sharon moore new york qty \n",
      "lame made big time visited set johnny wa acting movie johnny found young fires\n",
      "pproach never slept girl unless foere wa something really liked except course \n",
      " really liked except course sometimes wa drunk found self bed girl even rememb\n",
      "bed girl even remember meeting seeing wa year old estranged second wife maybe \n",
      "pubic scalp dangling bdt simply eager wa something sharon moore aroused affect\n",
      "pretty clothes usually big eater date wa plenty food table wa also plenty liqu\n",
      "y big eater date wa plenty food table wa also plenty liquor champagne bucket s\n",
      "ome playing record sharon asked voice wa teasing johnny smiled wa amused teasi\n",
      " asked voice wa teasing johnny smiled wa amused teasing wood said play said si\n",
      "dy needed warm cheer charge situation wa reverse lover usual one get drunk ins\n",
      "usual one get drunk instead girl girl wa usually willing wa last two year hell\n",
      " instead girl girl wa usually willing wa last two year hell ego used simple wa\n",
      " johnny fontaric true love knock girl wa beautiful genuinely nice hated hard b\n",
      "d almost told face forgave wife since wa allowed even virtuous matron unfuthfu\n",
      " kind dean singing kind dean phrasing wa thing life really understood knew und\n",
      "t desire sing music phrase record yet wa something impbssible front stranger p\n",
      "till happened would fidlcd voioe hadp wa ready pot drink die long laid cocktai\n",
      "ocktail table turned body towards ber wa sure deliberate yet tender wa nothing\n",
      "rds ber wa sure deliberate yet tender wa nothing sly lecherously lascivious ca\n",
      "thigh skin silky touch returning kiss wa warm passionate preferred way right h\n",
      " yet failed arouse delicately lightly wa possible still feel something brushed\n",
      "ve towards lovemaking distracted sure wa physical touch dme always kissed deep\n",
      "ourse became famous girl slapped face wa whole technique usually served well e\n",
      "\n",
      "\n",
      "Displaying 25 of 189 matches:\n",
      "ne wavcd casual dismissal manservant said sec morning billy itie coloured butl\n",
      " already famous force royalty course said yes sharon moore obviously expected \n",
      "johnny smiled wa amused teasing wood said play said sing know like movie bubbl\n",
      "led wa amused teasing wood said play said sing know like movie bubble melt lik\n",
      "youth full bloom manhood voice shape said honesdy sick hearing sipped drink he\n",
      "ring sipped drink hear great picture said true nothing token payment johnny sa\n",
      "id true nothing token payment johnny said got give refill brandy glass gave ci\n",
      "d sipped drink watched pacific ocean said hope sore johnny guess square guess \n",
      " discreetly rounded silken knee sore said nice fashioned telling felt relief p\n",
      "k shared cool kiss decided go johnny said politely gm call dinner night played\n",
      "now want waste time get disappointed said thanks wonderful evening day tell ch\n",
      "eat johnny fontane alone smiled give said laughed never believe said johnny li\n",
      "iled give said laughed never believe said johnny little phony turn said give w\n",
      "elieve said johnny little phony turn said give writing want shook tinued anybo\n",
      "y litde smile course try taking pity said ever feel real give ring shack every\n",
      " give ring shack every girl know wiu said went doot wa left long evening could\n",
      "me wa ten year old together hi ginny said busy tonight come little right said \n",
      " said busy tonight come little right said kid sleeping though want wake ok sai\n",
      "aid kid sleeping though want wake ok said wanted talk voice hesitated slightly\n",
      "ng serious anything important johnny said finished picture today thought maybe\n",
      "ould take look kid sure diey wake ok said glad got part said sec halt got home\n",
      "sure diey wake ok said glad got part said sec halt got home beverly hill johnn\n",
      "t staring house remembered godfather said could make life wanted great chance \n",
      "emade cooky living room stretch sofa said look took oq jacket shoe loosened ti\n",
      " liim grave little smile fiice funny said fonny asked sipping coffee spilling \n",
      "\n",
      "\n",
      "Displaying 25 of 184 matches:\n",
      "ocean wa sort bow servant bow given johnny fontane company dinner johnny compa\n",
      "given johnny fontane company dinner johnny company wa girl named sharon moore \n",
      "old flame made big time visited set johnny wa acting movie johnny found young \n",
      " visited set johnny wa acting movie johnny found young firesh charming witty a\n",
      "scotch rye brandy liqueur sideboard johnny served drink plate food already pre\n",
      "ecord sharon asked voice wa teasing johnny smiled wa amused teasing wood said \n",
      "ow like movie bubble melt like girl johnny laughed outright younger done thing\n",
      "ure said true nothing token payment johnny said got give refill brandy glass g\n",
      "g hurt could always say thing great johnny fontaric true love knock girl wa be\n",
      "ed rushed tell friend screwed great johnny fontane always adding better amaaed\n",
      "thful great singing movie star like johnny fontane really floored loved ella f\n",
      "ways despite woman year fiuniliarhy johnny felt fluid sticky wacmoess flooding\n",
      "l happened somedmes rarely happened johnny picked drink lit cigarette wa sayin\n",
      "aying something sweedy lightly like johnny much nicer thought kind girl turned\n",
      "ught kind girl turned guy know mean johnny fontane smiled still liked turn wa \n",
      "iend even turned chance screw great johnny fontane wa something understood wa \n",
      "atched pacific ocean said hope sore johnny guess square guess hollywood girl s\n",
      " kissing beau goodnight around long johnny smiled patted cheek hand fell pul s\n",
      "r drink shared cool kiss decided go johnny said politely gm call dinner night \n",
      "evening day tell child suppei great johnny fontane alone smiled give said laug\n",
      "ive said laughed never believe said johnny little phony turn said give writing\n",
      "t girl wa told story resisted great johnny fontane would always add wry litde \n",
      "harpy might come could brag screwed johnny fontane first wife far knew body co\n",
      "anything serious anything important johnny said finished picture today thought\n",
      "said sec halt got home beverly hill johnny fontane sat car moment staring hous\n",
      "\n",
      "\n",
      "Displaying 25 of 144 matches:\n",
      "strange village corleonc sicily born vito andolini strange men came kill son m\n",
      "nment far powerful official one rome vito corleone fathcl became involved feud\n",
      "afia gunman came inquiring young boy vito decided wa close manhood might try a\n",
      "ry avenge death father year come old vito hidden relative shipped america wa b\n",
      "co wa later become consigliori young vito went work abbandando grocery store n\n",
      "e new york hell kitchen age eighteen vito married italian girl freshly arrived\n",
      "nt tenth avenue near th street block vito worked two year later blessed first \n",
      "d settle fanucci hash father forbade vito corleone observed feeling way involv\n",
      "nough frighten make bleed great deal vito saw fanucci fleeing punishers circul\n",
      "ci became partner hood gambling game vito corleone wa none afiair forgot immed\n",
      "salami ham cheese moved nephew store vito corleone found job time second child\n",
      " time second child fredetico arrived vito codeone four mouth feed time quiet c\n",
      "bbandando wa closest friend surprise vito reproached friend father deed genco \n",
      "ather deed genco flushed shame vowed vito would worry food genco would steal f\n",
      "need offer though wa sternly refused vito shameful son stealing father young v\n",
      "o shameful son stealing father young vito however felt cold anger dreaded fanu\n",
      "ican abused workman foulest language vito always bore comprehend though unders\n",
      "lish well despite accent one evening vito wa supper family wa knock window led\n",
      "en air shaft separated next building vito pulled aside curtain saw astonishmen\n",
      "za said hold ask hurry automatically vito reached empty space air shaft took b\n",
      "e wa strained urgent wa soft trouble vito helping action wa instinctive imtied\n",
      "t knocking door handed gun air shaft vito never said word anyone course terrif\n",
      "menza reappeared neighbourhood asked vito casually good still vito nodded wa h\n",
      "rhood asked vito casually good still vito nodded wa habit talking little cleme\n",
      "ame tenement hat wa given glass wine vito dug bundle bedroom closet clemenza d\n",
      "\n",
      "\n",
      "Displaying 25 of 124 matches:\n",
      " swim desire imagined fantasy camera would never dream singing girl one thing s\n",
      "ing body sight mirade still happened would fidlcd voioe hadp wa ready pot drink\n",
      "llen ovei screw try hustle connexion would help show hiz wa really straight kid\n",
      "ed hard taken sweetness victory away would feel lack charm attractiveness made \n",
      " story resisted great johnny fontane would always add wry litde smile course tr\n",
      "fe virginia work picture wa finished would time kid wanted become part life wor\n",
      "tte nice italian girl girl next door would never fool around another man import\n",
      "father sly way made ginny understand would pleased remarrying wa jealous wa jea\n",
      "position frther atraitged money paid would mously advantage remarry wa understo\n",
      " even christmas wa sacred missed one would second one last year ing second wife\n",
      "d christmas eve mention new year eve would one wild night needed every get drun\n",
      "agen forgot anger must something boy would fond said forget wa embarrassed dept\n",
      "lieve ball brain producer money bank would finance take million support hagen s\n",
      "tar hagen shook head said may happen would object something object direct doc i\n",
      " something object direct doc imagine would movie affect way ha intetest believe\n",
      " known johnny long time knew apology would never made feat johnny always gut al\n",
      "n knew could said apology wa sincere would accept johnqy would sec lot oihet ne\n",
      "ology wa sincere would accept johnqy would sec lot oihet next year johnny would\n",
      "would sec lot oihet next year johnny would pas next test would prove smart wa w\n",
      "next year johnny would pas next test would prove smart wa would something would\n",
      "d pas next test would prove smart wa would something would never ask insist par\n",
      "would prove smart wa would something would never ask insist part agreement hage\n",
      "e wa surprised see wanted stay place would time think thing make plan knew hage\n",
      "l turning nice smart acting sort hip would cool really top backing dough could \n",
      "d king johnny smiled hell could even would nice living giony week maybe longer \n",
      "\n",
      "\n",
      "Displaying 25 of 122 matches:\n",
      "since come new arrangement wedding corleone daughter christmas two week away s\n",
      "a excited would important idea ful corleone really wa understand significance \n",
      "hamed sung note except nino connie corleone wedding never forgotten look face \n",
      "valenti suddenly knew would please corleone anything else picked phone told op\n",
      "operator get new york called sonny corleone asked nino valenti number called n\n",
      "l job song nino johnny sung connie corleone wedding johnny wa making record pr\n",
      "g johnny fontane got word shooting corleone worried godfather also wondered wh\n",
      "ld get bad publicity wa last thing corleone would want waited week later messe\n",
      "personal tact could apply pressure corleone family thing think johnny ofiered \n",
      "ar powerful official one rome vito corleone fathcl became involved feud anothe\n",
      "e fanucci hash father forbade vito corleone observed feeling way involved one \n",
      "me partner hood gambling game vito corleone wa none afiair forgot immediately \n",
      "ham cheese moved nephew store vito corleone found job time second child fredet\n",
      "genial qemenza wa storyteller vito corleone wa listener storyteller became cas\n",
      " day later qemenza asked wife vito corleone would like fine rug living room fl\n",
      "elp roll rug wa rich red wool vito corleone wa astonished qemenza generosity t\n",
      " gun inside jacket wa moment ished corleone realized stealing rug firom strang\n",
      "ssary tool time went thing improve corleone funily could eat beautiful rug wel\n",
      "ium agaiiist better judgement vito corleone accepted oher dinchmg argument wa \n",
      "ble sum money next day street vito corleone wa stopped fanned fanned wa man do\n",
      " wa demand part loot wa habit vito corleone answer stood implication immediate\n",
      "le know courtesy due man like vito corleone smiled even young man sdll unblood\n",
      "ndred dollar try deceive time vito corleone spoke voice wa showed anger wa cou\n",
      "let self guided ha experience vito corleone shrugged tried look litde rassed c\n",
      "st eh perhaps help later year vito corleone understood tbat made act perfect t\n",
      "\n",
      "\n",
      "Displaying 25 of 108 matches:\n",
      "left way outside huge picture window could sec dark blue sheet pacific lying fl\n",
      "nal pended technical help sound good could played record felt shyness hearing y\n",
      "ing nicest way possible feeling hurt could always say thing great johnny fontar\n",
      "e mind made go bed matter mudi liked could tell friend even turned chance screw\n",
      " said went doot wa left long evening could used jack woltz called meat factory \n",
      "d handle hollywood sharpy might come could brag screwed johnny fontane first wi\n",
      "nny fontane first wife far knew body could say yet everybody could say second w\n",
      "ar knew body could say yet everybody could say second wife though thought wryly\n",
      "finished picture today thought maybe could see talk maybe could take look kid s\n",
      "y thought maybe could see talk maybe could take look kid sure diey wake ok said\n",
      "ring house remembered godfather said could make life wanted great chance knew w\n",
      "still want asked answer wa one thing could longer make love affection grown old\n",
      "ffection grown old thing nothing sex could never forgive longer enemy made cofi\n",
      "ike lemming lasting one year two ful could make man heart almost stop beating o\n",
      "louded loveliness eye ordinary woman could never hope compete physical level co\n",
      "ld never hope compete physical level could talk wanted charm intelligence chic \n",
      " ordinary woman since johnny fontane could nearly ginny knew wa saying flatter \n",
      "ny look good wish looked good answer could see wa depressed think picture ok go\n",
      "ure ok good asked johnny nodded yeah could bring way back get academy thing pla\n",
      "nny play game never asked ginny said could take least one lousy johnny answer g\n",
      " phone say told help ginny said said could big ever way back needed people bdie\n",
      "takep except one bedroom one kitchen could hear kitchen phone ringing went answ\n",
      "end johnny woke next morning wa late could tell sun coming drawn blind never ca\n",
      "door wheeled breakfast cart rest way could eat bed sat beside edge bed pouring \n",
      "usly advantage remarry wa understood could lover long introduced home life scor\n",
      "\n",
      "\n",
      "Displaying 25 of 95 matches:\n",
      "camera would never dream singing girl one thing sung month trust voice another \n",
      "arge situation wa reverse lover usual one get drunk instead girl girl wa usuall\n",
      "way restore sleeping young fresh girl one night taking dinner time giving expen\n",
      "iful genuinely nice hated hard bitchy one one screwed rushed tell friend screwe\n",
      " genuinely nice hated hard bitchy one one screwed rushed tell friend screwed gr\n",
      " important still want asked answer wa one thing could longer make love affectio\n",
      "rl thronged city like lemming lasting one year two ful could make man heart alm\n",
      "day night dinner swear til never miss one friday care far away busy whenever ru\n",
      "ver asked ginny said could take least one lousy johnny answer godfather said jo\n",
      "ia hated phone extension takep except one bedroom one kitchen could hear kitche\n",
      "ne extension takep except one bedroom one kitchen could hear kitchen phone ring\n",
      " johnny said stay car hagen said send one people meet get plane bring right joh\n",
      "hter worst thing divorce leaving home one thing fought wa position father sly w\n",
      "nciliation wanted sleep night neither one wanted renew old marriage understood \n",
      " date even christmas wa sacred missed one would second one last year ing second\n",
      "mas wa sacred missed one would second one last year ing second wife spain tryin\n",
      "istmas eve mention new year eve would one wild night needed every get drunk fri\n",
      "riveway car two little girl held hand one side wife walked little behind wa get\n",
      "l publicity crap really mean anything one way paused added hastily except cours\n",
      "ed filled glass win oscar much muscle one daughter voice gone back could make m\n",
      "ding back money ad may also arranging one guy get much opposition vote swing us\n",
      " might turn course could never turned one reason affection wa mutable thing bad\n",
      " sonny might said johnny let reassure one thing godfather ha given sonny strict\n",
      "ways trouble movie boss woman wa also one people wa afraid fontane michael mayb\n",
      " daughter jstzz singer nightclub bill one sweetest thing ever lip really tasted\n",
      "\n",
      "\n",
      "Displaying 25 of 92 matches:\n",
      "sed sing wa ashamed sung note except nino connie corleone wedding never forgot\n",
      "dy bed one note memory stuck singing nino valenti suddenly knew would please c\n",
      "new york called sonny corleone asked nino valenti number called nino nino soun\n",
      "one asked nino valenti number called nino nino sounded little drunk usual hey \n",
      "sked nino valenti number called nino nino sounded little drunk usual hey nino \n",
      " nino sounded little drunk usual hey nino like come work johnny said need guy \n",
      " like come work johnny said need guy nino kidding arotind said gee know johnny\n",
      "aid maybe let sing yeah ok let think nino said talk lawyer accountant helper h\n",
      "accountant helper hey kidding around nino johnny said need want fly tomorrow m\n",
      "k least year salary ok wa long pause nino voice wa sober hey johnny kidding jo\n",
      "ur johnny though schedule wa crowded nino valenti wa sitting piano fooling aro\n",
      "ping huge glass rye johnny mind knew nino sang well drunk sober today require \n",
      "ober today require real musicianship nino part eddie neils made special arrang\n",
      "alian sicilian song special job song nino johnny sung connie corleone wedding \n",
      "umber million course figured helping nino wa wanted payoff nino wa another one\n",
      "igured helping nino wa wanted payoff nino wa another one child johnny put clip\n",
      "t stand beside piano said hey paisan nino glanced tried smile looked little si\n",
      " today rii fix best famous piece ill nino took gulp whisky lassie johnny laugh\n",
      "y laughed deanna dunn guarantee good nino wa impressed help saying hopefulness\n",
      "would come song knew voice last long nino would singing johnny would singing e\n",
      "except course song would save pulled nino foot stood microphone nino flubbed o\n",
      "ve pulled nino foot stood microphone nino flubbed opening flubbed face wa begi\n",
      "vertime feel natund without mandolin nino said johnny thought moment hold glas\n",
      "d glass hoo c hand said seemed trick nino kept drinking glass sang wa fine joh\n",
      "training voice merely dancing around nino main melody wa emotional kind singin\n",
      "\n",
      "\n",
      "Displaying 25 of 88 matches:\n",
      "thful passionate voice ageing balding man running fat feel showing picture yout\n",
      " door would never fool around another man important still want asked answer wa \n",
      "g lasting one year two ful could make man heart almost stop beating opened mout\n",
      "nny know getting divorced gon na free man watched getting dressed always kept f\n",
      "ver liked goodbye arrangement made pr man aide house chauffeured car wa waiting\n",
      "uffeured car wa waiting rented car pr man another member entourage johnny parke\n",
      "pped way airport waited inside car pr man went meet tom hagen plane tom got car\n",
      "ust tell keep godfather much powerful man jack woltz much powerfol area far cri\n",
      "nderstood would share room would live man wife could never ship though outside \n",
      "ince wa kid singer band conductor top man business pop paniment man kind thing \n",
      "nductor top man business pop paniment man kind thing went sour wa giving musici\n",
      "roved first sight enormously likeable man beautifully dressed greeted johnny fo\n",
      "lushed requited love writhing embrace man adored seen die beautifully least hal\n",
      "a dunn left immediately go talk older man nino recognized famous featured playe\n",
      "dame like lot good used boff anything man sometimes still get nightmare remembe\n",
      "ed make lot dough know told say every man ha one destiny destiny wa artist mean\n",
      "duction thought hired cutive producer man knew stuff trouble finding work black\n",
      "rk blacklist johnny take vantage gave man fair contract expect save dough way t\n",
      "r contract expect save dough way told man frankly wa surprised executive produc\n",
      "take care hell even drink night buddy man johnny fontane said academy award nig\n",
      "te loving handling better nino turned man party finally somebody great idea pub\n",
      "ss want book chapter fourteen wa real man age twelve short dark slender living \n",
      "to andolini strange men came kill son man murdered mother sent young boy americ\n",
      "y devotion father neighbourhood lived man called fanucci wa italian wore expens\n",
      "n wore expensive coloured suit fedora man wa reputed black hand offshoot mafia \n",
      "\n",
      "\n"
     ]
    }
   ],
   "source": [
    "#8. Concordance za najfrekventnije riječi\n",
    "\n",
    "frequency2 = []\n",
    "\n",
    "for token in frequency:\n",
    "    frequency2.append(token[0])\n",
    "\n",
    "tokens1 = nltk.word_tokenize(book_txt)\n",
    "text1 = nltk.Text(book_removed_stop_words)\n",
    "\n",
    "for token in frequency2:\n",
    "    text1.concordance(token)\n",
    "    print(\"\\n\")"
   ]
  },
  {
   "cell_type": "code",
   "execution_count": 11,
   "id": "f8c846ae-0aa2-4185-a96c-d3096740c11d",
   "metadata": {},
   "outputs": [
    {
     "data": {
      "text/plain": [
       "[('Vito', 'Corleone'),\n",
       " ('New', 'York'),\n",
       " ('Johnny', 'Fontane'),\n",
       " ('hundred', 'dollars'),\n",
       " ('Deanna', 'Dunn'),\n",
       " ('Johnny', 'said'),\n",
       " ('seven', 'hundred'),\n",
       " ('Jack', 'Woltz'),\n",
       " ('Genco', 'Abbandando'),\n",
       " ('air', 'shaft'),\n",
       " ('olive', 'oil'),\n",
       " ('living', 'room'),\n",
       " ('Mrs', 'Colombo'),\n",
       " ('Long', 'Beach'),\n",
       " ('United', 'States'),\n",
       " ('second', 'wife'),\n",
       " ('apart-', 'ment'),\n",
       " ('grocery', 'store'),\n",
       " ('Eddie', 'Neils'),\n",
       " ('Academy', 'Award')]"
      ]
     },
     "execution_count": 11,
     "metadata": {},
     "output_type": "execute_result"
    }
   ],
   "source": [
    "#9. Kolokacije\n",
    "\n",
    "text1 = nltk.Text(tokens1)\n",
    "text1.collocation_list()"
   ]
  },
  {
   "cell_type": "code",
   "execution_count": 12,
   "id": "2c11eec5-79ab-4e08-a368-48dce6ff83cf",
   "metadata": {},
   "outputs": [
    {
     "name": "stdout",
     "output_type": "stream",
     "text": [
      "0.2633434734513274\n"
     ]
    }
   ],
   "source": [
    "#10. Leksički diverzitet\n",
    "\n",
    "def lexical_diversity(text):\n",
    "    return len(set(text)) / len(text)\n",
    "\n",
    "print(lexical_diversity(book_removed_stop_words))"
   ]
  },
  {
   "cell_type": "code",
   "execution_count": 13,
   "id": "da1a9f69-e100-45e6-ae69-6d6f37d358e8",
   "metadata": {},
   "outputs": [
    {
     "name": "stdout",
     "output_type": "stream",
     "text": [
      "Kategorija adventure: \n",
      "chapter: 0, twelve: 0, jo: 0, hn: 0, nt: 0, fontane: 0, wavcd: 0, casual: 2, dismissal: 0, manservant: 2, said: 287, sec: 0, morning: 27, billy: 0, itie: 0, coloured: 0, butler: 0, bowed: 0, way: 65, huge: 3, dining: 2, room: 33, view: 6, pacific: 0, ocean: 0, wa: 0, sort: 15, bow: 2, servant: 1, bow: 2, given: 3, johnny: 0, fontane: 0, company: 10, dinner: 6, johnny: 0, company: 10, wa: 0, girl: 53, named: 8, sharon: 0, moore: 0, new: 22, york: 0, qty: 0, greenwich: 0, village: 4, girl: 53, hollywood: 0, try: 14, small: 35, part: 21, movie: 0, produced: 1, old: 38, flame: 5, made: 77, big: 50, time: 127, visited: 3, set: 17, johnny: 0, wa: 0, acting: 0, movie: 0, johnny: 0, found: 36, young: 24, firesh: 0, charming: 1, witty: 0, asked: 33, come: 61, place: 39, dinner: 6, evening: 9, invitation: 0, dinner: 6, already: 16, famous: 1, force: 6, royalty: 0, course: 16, said: 287, yes: 5, sharon: 0, moore: 0, obviously: 1, expected: 10, come: 61, strong: 17, reputation: 3, johmiy: 0, hated: 6, wood: 5, piece: 8, meat: 2, approach: 3, never: 62, slept: 5, \n",
      "\n",
      "Kategorija belles_lettres: \n",
      "chapter: 4, twelve: 8, jo: 0, hn: 0, nt: 0, fontane: 0, wavcd: 0, casual: 2, dismissal: 3, manservant: 0, said: 159, sec: 0, morning: 27, billy: 0, itie: 0, coloured: 1, butler: 1, bowed: 1, way: 153, huge: 5, dining: 2, room: 24, view: 34, pacific: 0, ocean: 2, wa: 0, sort: 40, bow: 0, servant: 7, bow: 0, given: 45, johnny: 0, fontane: 0, company: 17, dinner: 13, johnny: 0, company: 17, wa: 0, girl: 18, named: 9, sharon: 0, moore: 0, new: 163, york: 0, qty: 0, greenwich: 0, village: 10, girl: 18, hollywood: 0, try: 13, small: 48, part: 83, movie: 2, produced: 16, old: 89, flame: 4, made: 147, big: 18, time: 225, visited: 7, set: 52, johnny: 0, wa: 0, acting: 10, movie: 2, johnny: 0, found: 81, young: 78, firesh: 0, charming: 3, witty: 1, asked: 59, come: 88, place: 76, dinner: 13, evening: 22, invitation: 5, dinner: 13, already: 33, famous: 20, force: 36, royalty: 1, course: 73, said: 159, yes: 6, sharon: 0, moore: 0, obviously: 24, expected: 17, come: 88, strong: 27, reputation: 9, johmiy: 0, hated: 3, wood: 2, piece: 17, meat: 2, approach: 23, never: 129, slept: 1, \n",
      "\n",
      "Kategorija editorial: \n",
      "chapter: 1, twelve: 2, jo: 0, hn: 0, nt: 0, fontane: 0, wavcd: 0, casual: 3, dismissal: 0, manservant: 0, said: 52, sec: 0, morning: 5, billy: 0, itie: 0, coloured: 0, butler: 0, bowed: 0, way: 43, huge: 1, dining: 1, room: 12, view: 11, pacific: 0, ocean: 0, wa: 0, sort: 5, bow: 1, servant: 1, bow: 1, given: 12, johnny: 0, fontane: 0, company: 6, dinner: 1, johnny: 0, company: 6, wa: 0, girl: 5, named: 1, sharon: 0, moore: 0, new: 80, york: 0, qty: 0, greenwich: 0, village: 1, girl: 5, hollywood: 0, try: 16, small: 27, part: 33, movie: 1, produced: 5, old: 40, flame: 0, made: 45, big: 17, time: 72, visited: 4, set: 13, johnny: 0, wa: 0, acting: 2, movie: 1, johnny: 0, found: 18, young: 23, firesh: 0, charming: 0, witty: 0, asked: 21, come: 35, place: 16, dinner: 1, evening: 6, invitation: 1, dinner: 1, already: 17, famous: 5, force: 15, royalty: 0, course: 33, said: 52, yes: 0, sharon: 0, moore: 0, obviously: 6, expected: 13, come: 35, strong: 12, reputation: 3, johmiy: 0, hated: 0, wood: 3, piece: 9, meat: 8, approach: 6, never: 32, slept: 0, \n",
      "\n",
      "Kategorija fiction: \n",
      "chapter: 0, twelve: 5, jo: 0, hn: 0, nt: 0, fontane: 0, wavcd: 0, casual: 1, dismissal: 0, manservant: 1, said: 192, sec: 0, morning: 32, billy: 0, itie: 0, coloured: 0, butler: 0, bowed: 1, way: 62, huge: 4, dining: 3, room: 63, view: 4, pacific: 0, ocean: 0, wa: 0, sort: 15, bow: 4, servant: 0, bow: 4, given: 20, johnny: 0, fontane: 0, company: 14, dinner: 11, johnny: 0, company: 14, wa: 0, girl: 20, named: 7, sharon: 0, moore: 0, new: 33, york: 0, qty: 0, greenwich: 0, village: 7, girl: 20, hollywood: 0, try: 5, small: 31, part: 26, movie: 2, produced: 1, old: 75, flame: 1, made: 60, big: 36, time: 99, visited: 2, set: 17, johnny: 0, wa: 0, acting: 0, movie: 2, johnny: 0, found: 42, young: 26, firesh: 0, charming: 1, witty: 0, asked: 50, come: 55, place: 36, dinner: 11, evening: 17, invitation: 1, dinner: 11, already: 17, famous: 3, force: 4, royalty: 0, course: 17, said: 192, yes: 14, sharon: 0, moore: 0, obviously: 2, expected: 5, come: 55, strong: 7, reputation: 0, johmiy: 0, hated: 6, wood: 7, piece: 15, meat: 1, approach: 2, never: 71, slept: 11, \n",
      "\n",
      "Kategorija government: \n",
      "chapter: 0, twelve: 5, jo: 0, hn: 0, nt: 0, fontane: 0, wavcd: 0, casual: 1, dismissal: 1, manservant: 0, said: 18, sec: 0, morning: 1, billy: 0, itie: 0, coloured: 0, butler: 0, bowed: 1, way: 23, huge: 0, dining: 0, room: 4, view: 15, pacific: 0, ocean: 1, wa: 0, sort: 0, bow: 0, servant: 0, bow: 0, given: 23, johnny: 0, fontane: 0, company: 11, dinner: 0, johnny: 0, company: 11, wa: 0, girl: 2, named: 2, sharon: 0, moore: 0, new: 100, york: 0, qty: 0, greenwich: 0, village: 0, girl: 2, hollywood: 0, try: 2, small: 54, part: 40, movie: 0, produced: 9, old: 4, flame: 1, made: 118, big: 4, time: 103, visited: 1, set: 31, johnny: 0, wa: 0, acting: 2, movie: 0, johnny: 0, found: 18, young: 8, firesh: 0, charming: 0, witty: 0, asked: 6, come: 12, place: 30, dinner: 0, evening: 1, invitation: 0, dinner: 0, already: 15, famous: 5, force: 12, royalty: 4, course: 15, said: 18, yes: 0, sharon: 0, moore: 0, obviously: 3, expected: 11, come: 12, strong: 10, reputation: 1, johmiy: 0, hated: 0, wood: 2, piece: 3, meat: 0, approach: 13, never: 12, slept: 0, \n",
      "\n",
      "Kategorija hobbies: \n",
      "chapter: 0, twelve: 4, jo: 0, hn: 0, nt: 0, fontane: 0, wavcd: 0, casual: 1, dismissal: 0, manservant: 0, said: 11, sec: 0, morning: 8, billy: 0, itie: 0, coloured: 0, butler: 0, bowed: 0, way: 76, huge: 7, dining: 3, room: 14, view: 11, pacific: 0, ocean: 4, wa: 0, sort: 8, bow: 2, servant: 0, bow: 2, given: 24, johnny: 0, fontane: 0, company: 31, dinner: 3, johnny: 0, company: 31, wa: 0, girl: 0, named: 5, sharon: 0, moore: 0, new: 103, york: 0, qty: 0, greenwich: 0, village: 4, girl: 0, hollywood: 0, try: 12, small: 55, part: 28, movie: 1, produced: 6, old: 34, flame: 0, made: 69, big: 21, time: 127, visited: 0, set: 42, johnny: 0, wa: 0, acting: 0, movie: 1, johnny: 0, found: 33, young: 14, firesh: 0, charming: 1, witty: 3, asked: 9, come: 29, place: 48, dinner: 3, evening: 4, invitation: 2, dinner: 3, already: 12, famous: 16, force: 23, royalty: 0, course: 33, said: 11, yes: 1, sharon: 0, moore: 0, obviously: 3, expected: 6, come: 29, strong: 15, reputation: 0, johmiy: 0, hated: 0, wood: 12, piece: 42, meat: 12, approach: 12, never: 28, slept: 0, \n",
      "\n",
      "Kategorija humor: \n",
      "chapter: 1, twelve: 0, jo: 0, hn: 0, nt: 0, fontane: 0, wavcd: 0, casual: 0, dismissal: 0, manservant: 0, said: 87, sec: 0, morning: 3, billy: 0, itie: 0, coloured: 0, butler: 0, bowed: 0, way: 28, huge: 2, dining: 2, room: 18, view: 1, pacific: 0, ocean: 1, wa: 0, sort: 8, bow: 0, servant: 0, bow: 0, given: 6, johnny: 0, fontane: 0, company: 3, dinner: 5, johnny: 0, company: 3, wa: 0, girl: 11, named: 2, sharon: 0, moore: 0, new: 14, york: 0, qty: 0, greenwich: 0, village: 3, girl: 11, hollywood: 0, try: 3, small: 9, part: 10, movie: 6, produced: 1, old: 14, flame: 0, made: 23, big: 3, time: 43, visited: 3, set: 12, johnny: 0, wa: 0, acting: 1, movie: 6, johnny: 0, found: 12, young: 4, firesh: 0, charming: 2, witty: 1, asked: 17, come: 6, place: 9, dinner: 5, evening: 5, invitation: 1, dinner: 5, already: 3, famous: 3, force: 1, royalty: 0, course: 5, said: 87, yes: 1, sharon: 0, moore: 0, obviously: 1, expected: 1, come: 6, strong: 0, reputation: 3, johmiy: 0, hated: 1, wood: 1, piece: 4, meat: 0, approach: 1, never: 16, slept: 1, \n",
      "\n",
      "Kategorija learned: \n",
      "chapter: 20, twelve: 7, jo: 0, hn: 0, nt: 0, fontane: 0, wavcd: 0, casual: 3, dismissal: 0, manservant: 0, said: 35, sec: 0, morning: 8, billy: 0, itie: 0, coloured: 0, butler: 0, bowed: 1, way: 89, huge: 3, dining: 0, room: 33, view: 41, pacific: 0, ocean: 2, wa: 0, sort: 21, bow: 0, servant: 2, bow: 0, given: 103, johnny: 0, fontane: 0, company: 23, dinner: 1, johnny: 0, company: 23, wa: 0, girl: 15, named: 3, sharon: 0, moore: 0, new: 127, york: 0, qty: 0, greenwich: 0, village: 2, girl: 15, hollywood: 0, try: 6, small: 107, part: 76, movie: 0, produced: 28, old: 29, flame: 1, made: 164, big: 12, time: 209, visited: 1, set: 71, johnny: 0, wa: 0, acting: 13, movie: 0, johnny: 0, found: 117, young: 28, firesh: 0, charming: 0, witty: 0, asked: 16, come: 48, place: 62, dinner: 1, evening: 2, invitation: 0, dinner: 1, already: 41, famous: 4, force: 63, royalty: 0, course: 69, said: 35, yes: 2, sharon: 0, moore: 0, obviously: 24, expected: 47, come: 48, strong: 38, reputation: 0, johmiy: 0, hated: 3, wood: 3, piece: 8, meat: 7, approach: 26, never: 36, slept: 0, \n",
      "\n",
      "Kategorija lore: \n",
      "chapter: 5, twelve: 4, jo: 0, hn: 0, nt: 0, fontane: 0, wavcd: 0, casual: 1, dismissal: 0, manservant: 0, said: 89, sec: 0, morning: 18, billy: 0, itie: 0, coloured: 0, butler: 1, bowed: 0, way: 86, huge: 13, dining: 7, room: 24, view: 28, pacific: 0, ocean: 5, wa: 0, sort: 15, bow: 2, servant: 3, bow: 2, given: 35, johnny: 0, fontane: 0, company: 24, dinner: 9, johnny: 0, company: 24, wa: 0, girl: 29, named: 16, sharon: 0, moore: 0, new: 95, york: 0, qty: 0, greenwich: 0, village: 8, girl: 29, hollywood: 0, try: 13, small: 37, part: 42, movie: 8, produced: 11, old: 54, flame: 1, made: 112, big: 15, time: 174, visited: 9, set: 35, johnny: 0, wa: 0, acting: 5, movie: 8, johnny: 0, found: 51, young: 33, firesh: 0, charming: 3, witty: 0, asked: 29, come: 59, place: 70, dinner: 9, evening: 5, invitation: 1, dinner: 9, already: 20, famous: 15, force: 16, royalty: 1, course: 64, said: 89, yes: 1, sharon: 0, moore: 0, obviously: 4, expected: 17, come: 59, strong: 14, reputation: 2, johmiy: 0, hated: 1, wood: 5, piece: 3, meat: 8, approach: 12, never: 62, slept: 0, \n",
      "\n",
      "Kategorija mystery: \n",
      "chapter: 0, twelve: 3, jo: 0, hn: 0, nt: 0, fontane: 0, wavcd: 0, casual: 2, dismissal: 0, manservant: 0, said: 202, sec: 0, morning: 24, billy: 0, itie: 0, coloured: 0, butler: 0, bowed: 1, way: 61, huge: 2, dining: 1, room: 65, view: 1, pacific: 0, ocean: 7, wa: 0, sort: 12, bow: 1, servant: 0, bow: 1, given: 8, johnny: 0, fontane: 0, company: 5, dinner: 8, johnny: 0, company: 5, wa: 0, girl: 17, named: 10, sharon: 0, moore: 0, new: 16, york: 0, qty: 0, greenwich: 0, village: 2, girl: 17, hollywood: 0, try: 16, small: 28, part: 9, movie: 1, produced: 0, old: 58, flame: 1, made: 60, big: 32, time: 82, visited: 1, set: 21, johnny: 0, wa: 0, acting: 7, movie: 1, johnny: 0, found: 42, young: 14, firesh: 0, charming: 0, witty: 0, asked: 45, come: 55, place: 33, dinner: 8, evening: 11, invitation: 0, dinner: 8, already: 14, famous: 0, force: 1, royalty: 0, course: 26, said: 202, yes: 13, sharon: 0, moore: 0, obviously: 4, expected: 10, come: 55, strong: 7, reputation: 0, johmiy: 0, hated: 1, wood: 4, piece: 5, meat: 1, approach: 1, never: 36, slept: 2, \n",
      "\n",
      "Kategorija news: \n",
      "chapter: 1, twelve: 1, jo: 0, hn: 0, nt: 0, fontane: 0, wavcd: 0, casual: 0, dismissal: 2, manservant: 0, said: 402, sec: 0, morning: 8, billy: 0, itie: 0, coloured: 0, butler: 0, bowed: 1, way: 44, huge: 4, dining: 4, room: 17, view: 12, pacific: 0, ocean: 2, wa: 0, sort: 4, bow: 0, servant: 0, bow: 0, given: 37, johnny: 0, fontane: 0, company: 42, dinner: 23, johnny: 0, company: 42, wa: 0, girl: 9, named: 9, sharon: 0, moore: 0, new: 148, york: 0, qty: 0, greenwich: 0, village: 1, girl: 9, hollywood: 0, try: 12, small: 27, part: 31, movie: 6, produced: 6, old: 23, flame: 0, made: 107, big: 38, time: 97, visited: 4, set: 51, johnny: 0, wa: 0, acting: 4, movie: 6, johnny: 0, found: 30, young: 35, firesh: 0, charming: 2, witty: 0, asked: 34, come: 31, place: 25, dinner: 23, evening: 12, invitation: 4, dinner: 23, already: 17, famous: 6, force: 7, royalty: 0, course: 24, said: 402, yes: 0, sharon: 0, moore: 0, obviously: 3, expected: 40, come: 31, strong: 13, reputation: 2, johmiy: 0, hated: 0, wood: 1, piece: 3, meat: 1, approach: 10, never: 38, slept: 0, \n",
      "\n",
      "Kategorija religion: \n",
      "chapter: 2, twelve: 1, jo: 0, hn: 0, nt: 0, fontane: 0, wavcd: 0, casual: 0, dismissal: 0, manservant: 0, said: 27, sec: 0, morning: 2, billy: 0, itie: 0, coloured: 0, butler: 0, bowed: 0, way: 31, huge: 2, dining: 0, room: 5, view: 13, pacific: 0, ocean: 3, wa: 0, sort: 0, bow: 0, servant: 1, bow: 0, given: 15, johnny: 0, fontane: 0, company: 1, dinner: 1, johnny: 0, company: 1, wa: 0, girl: 1, named: 1, sharon: 0, moore: 0, new: 77, york: 0, qty: 0, greenwich: 0, village: 2, girl: 1, hollywood: 0, try: 3, small: 13, part: 23, movie: 0, produced: 2, old: 5, flame: 0, made: 28, big: 5, time: 34, visited: 2, set: 9, johnny: 0, wa: 0, acting: 1, movie: 0, johnny: 0, found: 13, young: 4, firesh: 0, charming: 0, witty: 0, asked: 8, come: 16, place: 12, dinner: 1, evening: 2, invitation: 2, dinner: 1, already: 14, famous: 1, force: 9, royalty: 0, course: 14, said: 27, yes: 2, sharon: 0, moore: 0, obviously: 4, expected: 1, come: 16, strong: 4, reputation: 1, johmiy: 0, hated: 1, wood: 1, piece: 3, meat: 0, approach: 1, never: 22, slept: 0, \n",
      "\n",
      "Kategorija reviews: \n",
      "chapter: 1, twelve: 0, jo: 0, hn: 0, nt: 0, fontane: 0, wavcd: 0, casual: 2, dismissal: 1, manservant: 0, said: 11, sec: 0, morning: 3, billy: 0, itie: 0, coloured: 0, butler: 0, bowed: 0, way: 35, huge: 3, dining: 0, room: 7, view: 5, pacific: 0, ocean: 1, wa: 0, sort: 6, bow: 1, servant: 2, bow: 1, given: 18, johnny: 0, fontane: 0, company: 15, dinner: 2, johnny: 0, company: 15, wa: 0, girl: 3, named: 2, sharon: 0, moore: 0, new: 42, york: 0, qty: 0, greenwich: 0, village: 0, girl: 3, hollywood: 0, try: 2, small: 10, part: 19, movie: 1, produced: 4, old: 29, flame: 1, made: 35, big: 23, time: 41, visited: 1, set: 16, johnny: 0, wa: 0, acting: 6, movie: 1, johnny: 0, found: 5, young: 16, firesh: 0, charming: 6, witty: 4, asked: 1, come: 15, place: 19, dinner: 2, evening: 18, invitation: 0, dinner: 2, already: 12, famous: 8, force: 2, royalty: 0, course: 24, said: 11, yes: 0, sharon: 0, moore: 0, obviously: 3, expected: 2, come: 15, strong: 17, reputation: 2, johmiy: 0, hated: 0, wood: 0, piece: 7, meat: 3, approach: 5, never: 21, slept: 0, \n",
      "\n",
      "Kategorija romance: \n",
      "chapter: 2, twelve: 5, jo: 0, hn: 0, nt: 0, fontane: 0, wavcd: 0, casual: 3, dismissal: 0, manservant: 0, said: 330, sec: 0, morning: 40, billy: 0, itie: 0, coloured: 0, butler: 0, bowed: 1, way: 83, huge: 2, dining: 2, room: 45, view: 1, pacific: 0, ocean: 3, wa: 0, sort: 10, bow: 1, servant: 1, bow: 1, given: 18, johnny: 0, fontane: 0, company: 13, dinner: 7, johnny: 0, company: 13, wa: 0, girl: 26, named: 7, sharon: 0, moore: 0, new: 31, york: 0, qty: 0, greenwich: 0, village: 3, girl: 26, hollywood: 0, try: 10, small: 31, part: 18, movie: 1, produced: 0, old: 73, flame: 2, made: 62, big: 36, time: 93, visited: 3, set: 17, johnny: 0, wa: 0, acting: 1, movie: 1, johnny: 0, found: 29, young: 49, firesh: 0, charming: 3, witty: 1, asked: 45, come: 73, place: 45, dinner: 7, evening: 14, invitation: 0, dinner: 7, already: 20, famous: 1, force: 4, royalty: 1, course: 36, said: 330, yes: 10, sharon: 0, moore: 0, obviously: 4, expected: 6, come: 73, strong: 9, reputation: 1, johmiy: 0, hated: 6, wood: 5, piece: 2, meat: 0, approach: 6, never: 84, slept: 4, \n",
      "\n",
      "Kategorija science_fiction: \n",
      "chapter: 0, twelve: 0, jo: 0, hn: 0, nt: 0, fontane: 0, wavcd: 0, casual: 1, dismissal: 0, manservant: 0, said: 41, sec: 0, morning: 2, billy: 0, itie: 0, coloured: 0, butler: 0, bowed: 0, way: 13, huge: 2, dining: 0, room: 2, view: 0, pacific: 0, ocean: 1, wa: 0, sort: 2, bow: 0, servant: 0, bow: 0, given: 5, johnny: 0, fontane: 0, company: 3, dinner: 0, johnny: 0, company: 3, wa: 0, girl: 2, named: 0, sharon: 0, moore: 0, new: 9, york: 0, qty: 0, greenwich: 0, village: 0, girl: 2, hollywood: 0, try: 1, small: 6, part: 6, movie: 0, produced: 0, old: 3, flame: 0, made: 15, big: 6, time: 30, visited: 0, set: 4, johnny: 0, wa: 0, acting: 0, movie: 0, johnny: 0, found: 9, young: 3, firesh: 0, charming: 1, witty: 0, asked: 9, come: 6, place: 8, dinner: 0, evening: 0, invitation: 1, dinner: 0, already: 6, famous: 1, force: 1, royalty: 0, course: 15, said: 41, yes: 0, sharon: 0, moore: 0, obviously: 1, expected: 0, come: 6, strong: 4, reputation: 0, johmiy: 0, hated: 0, wood: 0, piece: 0, meat: 0, approach: 1, never: 15, slept: 3, \n",
      "\n"
     ]
    }
   ],
   "source": [
    "#11: Primjena Brown korpusa\n",
    "\n",
    "categories = brown.categories()\n",
    "\n",
    "for category in categories:\n",
    "    print(f\"Kategorija {category}: \")\n",
    "    genre_text = brown.words(categories = category)\n",
    "    freq_dist = nltk.FreqDist(genre_text)\n",
    "    for word in book_removed_stop_words[0:100]:\n",
    "        print(word + ':', freq_dist[word], end=', ')\n",
    "    print('\\n')"
   ]
  },
  {
   "cell_type": "code",
   "execution_count": 14,
   "id": "f5d798c4-9b00-4e01-9b6d-da24122a143c",
   "metadata": {},
   "outputs": [
    {
     "name": "stdout",
     "output_type": "stream",
     "text": [
      "['*', 'she', 'didn', '’', 't', 'answer', 'him', '.']\n"
     ]
    },
    {
     "data": {
      "text/plain": [
       "[('*', 'NN'),\n",
       " ('she', 'PRP'),\n",
       " ('didn', 'VBZ'),\n",
       " ('’', 'JJ'),\n",
       " ('t', 'NNS'),\n",
       " ('answer', 'VBP'),\n",
       " ('him', 'PRP'),\n",
       " ('.', '.')]"
      ]
     },
     "execution_count": 14,
     "metadata": {},
     "output_type": "execute_result"
    }
   ],
   "source": [
    "#12. Tagiranje riječi i lingvističko stablo\n",
    "\n",
    "list1 = book_tokenized[200]\n",
    "tokens1 = word_tokenize(list1)\n",
    "print(tokens1)\n",
    "list_tokens1 = nltk.pos_tag(word_tokenize(list1))\n",
    "list_tokens1"
   ]
  },
  {
   "cell_type": "code",
   "execution_count": 16,
   "id": "d0404ecb-3889-4244-822e-de0a8135152e",
   "metadata": {},
   "outputs": [
    {
     "data": {
      "image/svg+xml": [
       "<svg baseProfile=\"full\" height=\"168px\" preserveAspectRatio=\"xMidYMid meet\" style=\"font-family: times, serif; font-weight:normal; font-style: normal; font-size: 16px;\" version=\"1.1\" viewBox=\"0,0,320.0,168.0\" width=\"320px\" xmlns=\"http://www.w3.org/2000/svg\" xmlns:ev=\"http://www.w3.org/2001/xml-events\" xmlns:xlink=\"http://www.w3.org/1999/xlink\"><defs /><svg width=\"100%\" x=\"0\" y=\"0em\"><defs /><text text-anchor=\"middle\" x=\"50%\" y=\"1em\">S</text></svg><svg width=\"10%\" x=\"0%\" y=\"3em\"><defs /><svg width=\"100%\" x=\"0\" y=\"0em\"><defs /><text text-anchor=\"middle\" x=\"50%\" y=\"1em\">NP</text></svg><svg width=\"100%\" x=\"0%\" y=\"3em\"><defs /><svg width=\"100%\" x=\"0\" y=\"0em\"><defs /><text text-anchor=\"middle\" x=\"50%\" y=\"1em\">*</text></svg><svg width=\"100%\" x=\"0%\" y=\"3em\"><defs /><svg width=\"100%\" x=\"0\" y=\"0em\"><defs /><text text-anchor=\"middle\" x=\"50%\" y=\"1em\">NN</text></svg></svg><line stroke=\"black\" x1=\"50%\" x2=\"50%\" y1=\"1.2em\" y2=\"3em\" /></svg><line stroke=\"black\" x1=\"50%\" x2=\"50%\" y1=\"1.2em\" y2=\"3em\" /></svg><line stroke=\"black\" x1=\"50%\" x2=\"5%\" y1=\"1.2em\" y2=\"3em\" /><svg width=\"12.5%\" x=\"10%\" y=\"3em\"><defs /><svg width=\"100%\" x=\"0\" y=\"0em\"><defs /><text text-anchor=\"middle\" x=\"50%\" y=\"1em\">she</text></svg><svg width=\"100%\" x=\"0%\" y=\"3em\"><defs /><svg width=\"100%\" x=\"0\" y=\"0em\"><defs /><text text-anchor=\"middle\" x=\"50%\" y=\"1em\">PRP</text></svg></svg><line stroke=\"black\" x1=\"50%\" x2=\"50%\" y1=\"1.2em\" y2=\"3em\" /></svg><line stroke=\"black\" x1=\"50%\" x2=\"16.25%\" y1=\"1.2em\" y2=\"3em\" /><svg width=\"15%\" x=\"22.5%\" y=\"3em\"><defs /><svg width=\"100%\" x=\"0\" y=\"0em\"><defs /><text text-anchor=\"middle\" x=\"50%\" y=\"1em\">didn</text></svg><svg width=\"100%\" x=\"0%\" y=\"3em\"><defs /><svg width=\"100%\" x=\"0\" y=\"0em\"><defs /><text text-anchor=\"middle\" x=\"50%\" y=\"1em\">VBZ</text></svg></svg><line stroke=\"black\" x1=\"50%\" x2=\"50%\" y1=\"1.2em\" y2=\"3em\" /></svg><line stroke=\"black\" x1=\"50%\" x2=\"30%\" y1=\"1.2em\" y2=\"3em\" /><svg width=\"10%\" x=\"37.5%\" y=\"3em\"><defs /><svg width=\"100%\" x=\"0\" y=\"0em\"><defs /><text text-anchor=\"middle\" x=\"50%\" y=\"1em\">’</text></svg><svg width=\"100%\" x=\"0%\" y=\"3em\"><defs /><svg width=\"100%\" x=\"0\" y=\"0em\"><defs /><text text-anchor=\"middle\" x=\"50%\" y=\"1em\">JJ</text></svg></svg><line stroke=\"black\" x1=\"50%\" x2=\"50%\" y1=\"1.2em\" y2=\"3em\" /></svg><line stroke=\"black\" x1=\"50%\" x2=\"42.5%\" y1=\"1.2em\" y2=\"3em\" /><svg width=\"12.5%\" x=\"47.5%\" y=\"3em\"><defs /><svg width=\"100%\" x=\"0\" y=\"0em\"><defs /><text text-anchor=\"middle\" x=\"50%\" y=\"1em\">t</text></svg><svg width=\"100%\" x=\"0%\" y=\"3em\"><defs /><svg width=\"100%\" x=\"0\" y=\"0em\"><defs /><text text-anchor=\"middle\" x=\"50%\" y=\"1em\">NNS</text></svg></svg><line stroke=\"black\" x1=\"50%\" x2=\"50%\" y1=\"1.2em\" y2=\"3em\" /></svg><line stroke=\"black\" x1=\"50%\" x2=\"53.75%\" y1=\"1.2em\" y2=\"3em\" /><svg width=\"20%\" x=\"60%\" y=\"3em\"><defs /><svg width=\"100%\" x=\"0\" y=\"0em\"><defs /><text text-anchor=\"middle\" x=\"50%\" y=\"1em\">answer</text></svg><svg width=\"100%\" x=\"0%\" y=\"3em\"><defs /><svg width=\"100%\" x=\"0\" y=\"0em\"><defs /><text text-anchor=\"middle\" x=\"50%\" y=\"1em\">VBP</text></svg></svg><line stroke=\"black\" x1=\"50%\" x2=\"50%\" y1=\"1.2em\" y2=\"3em\" /></svg><line stroke=\"black\" x1=\"50%\" x2=\"70%\" y1=\"1.2em\" y2=\"3em\" /><svg width=\"12.5%\" x=\"80%\" y=\"3em\"><defs /><svg width=\"100%\" x=\"0\" y=\"0em\"><defs /><text text-anchor=\"middle\" x=\"50%\" y=\"1em\">him</text></svg><svg width=\"100%\" x=\"0%\" y=\"3em\"><defs /><svg width=\"100%\" x=\"0\" y=\"0em\"><defs /><text text-anchor=\"middle\" x=\"50%\" y=\"1em\">PRP</text></svg></svg><line stroke=\"black\" x1=\"50%\" x2=\"50%\" y1=\"1.2em\" y2=\"3em\" /></svg><line stroke=\"black\" x1=\"50%\" x2=\"86.25%\" y1=\"1.2em\" y2=\"3em\" /><svg width=\"7.5%\" x=\"92.5%\" y=\"3em\"><defs /><svg width=\"100%\" x=\"0\" y=\"0em\"><defs /><text text-anchor=\"middle\" x=\"50%\" y=\"1em\">.</text></svg><svg width=\"100%\" x=\"0%\" y=\"3em\"><defs /><svg width=\"100%\" x=\"0\" y=\"0em\"><defs /><text text-anchor=\"middle\" x=\"50%\" y=\"1em\">.</text></svg></svg><line stroke=\"black\" x1=\"50%\" x2=\"50%\" y1=\"1.2em\" y2=\"3em\" /></svg><line stroke=\"black\" x1=\"50%\" x2=\"96.25%\" y1=\"1.2em\" y2=\"3em\" /></svg>"
      ],
      "text/plain": [
       "Tree('S', [Tree('NP', [('*', 'NN')]), ('she', 'PRP'), ('didn', 'VBZ'), ('’', 'JJ'), ('t', 'NNS'), ('answer', 'VBP'), ('him', 'PRP'), ('.', '.')])"
      ]
     },
     "execution_count": 16,
     "metadata": {},
     "output_type": "execute_result"
    }
   ],
   "source": [
    "grammar_np = r\"NP: {<DT>?<JJ>*<NN>}\" \n",
    "parser1 = nltk.RegexpParser(grammar_np)\n",
    "result1 = parser1.parse(list_tokens1)\n",
    "result1"
   ]
  },
  {
   "cell_type": "code",
   "execution_count": 17,
   "id": "8e3cfa65-999b-46d2-a848-9112b2db3761",
   "metadata": {},
   "outputs": [
    {
     "data": {
      "image/svg+xml": [
       "<svg baseProfile=\"full\" height=\"168px\" preserveAspectRatio=\"xMidYMid meet\" style=\"font-family: times, serif; font-weight:normal; font-style: normal; font-size: 16px;\" version=\"1.1\" viewBox=\"0,0,320.0,168.0\" width=\"320px\" xmlns=\"http://www.w3.org/2000/svg\" xmlns:ev=\"http://www.w3.org/2001/xml-events\" xmlns:xlink=\"http://www.w3.org/1999/xlink\"><defs /><svg width=\"100%\" x=\"0\" y=\"0em\"><defs /><text text-anchor=\"middle\" x=\"50%\" y=\"1em\">S</text></svg><svg width=\"10%\" x=\"0%\" y=\"3em\"><defs /><svg width=\"100%\" x=\"0\" y=\"0em\"><defs /><text text-anchor=\"middle\" x=\"50%\" y=\"1em\">*</text></svg><svg width=\"100%\" x=\"0%\" y=\"3em\"><defs /><svg width=\"100%\" x=\"0\" y=\"0em\"><defs /><text text-anchor=\"middle\" x=\"50%\" y=\"1em\">NN</text></svg></svg><line stroke=\"black\" x1=\"50%\" x2=\"50%\" y1=\"1.2em\" y2=\"3em\" /></svg><line stroke=\"black\" x1=\"50%\" x2=\"5%\" y1=\"1.2em\" y2=\"3em\" /><svg width=\"27.5%\" x=\"10%\" y=\"3em\"><defs /><svg width=\"100%\" x=\"0\" y=\"0em\"><defs /><text text-anchor=\"middle\" x=\"50%\" y=\"1em\">VP</text></svg><svg width=\"45.4545%\" x=\"0%\" y=\"3em\"><defs /><svg width=\"100%\" x=\"0\" y=\"0em\"><defs /><text text-anchor=\"middle\" x=\"50%\" y=\"1em\">she</text></svg><svg width=\"100%\" x=\"0%\" y=\"3em\"><defs /><svg width=\"100%\" x=\"0\" y=\"0em\"><defs /><text text-anchor=\"middle\" x=\"50%\" y=\"1em\">PRP</text></svg></svg><line stroke=\"black\" x1=\"50%\" x2=\"50%\" y1=\"1.2em\" y2=\"3em\" /></svg><line stroke=\"black\" x1=\"50%\" x2=\"22.7273%\" y1=\"1.2em\" y2=\"3em\" /><svg width=\"54.5455%\" x=\"45.4545%\" y=\"3em\"><defs /><svg width=\"100%\" x=\"0\" y=\"0em\"><defs /><text text-anchor=\"middle\" x=\"50%\" y=\"1em\">didn</text></svg><svg width=\"100%\" x=\"0%\" y=\"3em\"><defs /><svg width=\"100%\" x=\"0\" y=\"0em\"><defs /><text text-anchor=\"middle\" x=\"50%\" y=\"1em\">VBZ</text></svg></svg><line stroke=\"black\" x1=\"50%\" x2=\"50%\" y1=\"1.2em\" y2=\"3em\" /></svg><line stroke=\"black\" x1=\"50%\" x2=\"72.7273%\" y1=\"1.2em\" y2=\"3em\" /></svg><line stroke=\"black\" x1=\"50%\" x2=\"23.75%\" y1=\"1.2em\" y2=\"3em\" /><svg width=\"10%\" x=\"37.5%\" y=\"3em\"><defs /><svg width=\"100%\" x=\"0\" y=\"0em\"><defs /><text text-anchor=\"middle\" x=\"50%\" y=\"1em\">’</text></svg><svg width=\"100%\" x=\"0%\" y=\"3em\"><defs /><svg width=\"100%\" x=\"0\" y=\"0em\"><defs /><text text-anchor=\"middle\" x=\"50%\" y=\"1em\">JJ</text></svg></svg><line stroke=\"black\" x1=\"50%\" x2=\"50%\" y1=\"1.2em\" y2=\"3em\" /></svg><line stroke=\"black\" x1=\"50%\" x2=\"42.5%\" y1=\"1.2em\" y2=\"3em\" /><svg width=\"12.5%\" x=\"47.5%\" y=\"3em\"><defs /><svg width=\"100%\" x=\"0\" y=\"0em\"><defs /><text text-anchor=\"middle\" x=\"50%\" y=\"1em\">t</text></svg><svg width=\"100%\" x=\"0%\" y=\"3em\"><defs /><svg width=\"100%\" x=\"0\" y=\"0em\"><defs /><text text-anchor=\"middle\" x=\"50%\" y=\"1em\">NNS</text></svg></svg><line stroke=\"black\" x1=\"50%\" x2=\"50%\" y1=\"1.2em\" y2=\"3em\" /></svg><line stroke=\"black\" x1=\"50%\" x2=\"53.75%\" y1=\"1.2em\" y2=\"3em\" /><svg width=\"20%\" x=\"60%\" y=\"3em\"><defs /><svg width=\"100%\" x=\"0\" y=\"0em\"><defs /><text text-anchor=\"middle\" x=\"50%\" y=\"1em\">answer</text></svg><svg width=\"100%\" x=\"0%\" y=\"3em\"><defs /><svg width=\"100%\" x=\"0\" y=\"0em\"><defs /><text text-anchor=\"middle\" x=\"50%\" y=\"1em\">VBP</text></svg></svg><line stroke=\"black\" x1=\"50%\" x2=\"50%\" y1=\"1.2em\" y2=\"3em\" /></svg><line stroke=\"black\" x1=\"50%\" x2=\"70%\" y1=\"1.2em\" y2=\"3em\" /><svg width=\"12.5%\" x=\"80%\" y=\"3em\"><defs /><svg width=\"100%\" x=\"0\" y=\"0em\"><defs /><text text-anchor=\"middle\" x=\"50%\" y=\"1em\">VP</text></svg><svg width=\"100%\" x=\"0%\" y=\"3em\"><defs /><svg width=\"100%\" x=\"0\" y=\"0em\"><defs /><text text-anchor=\"middle\" x=\"50%\" y=\"1em\">him</text></svg><svg width=\"100%\" x=\"0%\" y=\"3em\"><defs /><svg width=\"100%\" x=\"0\" y=\"0em\"><defs /><text text-anchor=\"middle\" x=\"50%\" y=\"1em\">PRP</text></svg></svg><line stroke=\"black\" x1=\"50%\" x2=\"50%\" y1=\"1.2em\" y2=\"3em\" /></svg><line stroke=\"black\" x1=\"50%\" x2=\"50%\" y1=\"1.2em\" y2=\"3em\" /></svg><line stroke=\"black\" x1=\"50%\" x2=\"86.25%\" y1=\"1.2em\" y2=\"3em\" /><svg width=\"7.5%\" x=\"92.5%\" y=\"3em\"><defs /><svg width=\"100%\" x=\"0\" y=\"0em\"><defs /><text text-anchor=\"middle\" x=\"50%\" y=\"1em\">.</text></svg><svg width=\"100%\" x=\"0%\" y=\"3em\"><defs /><svg width=\"100%\" x=\"0\" y=\"0em\"><defs /><text text-anchor=\"middle\" x=\"50%\" y=\"1em\">.</text></svg></svg><line stroke=\"black\" x1=\"50%\" x2=\"50%\" y1=\"1.2em\" y2=\"3em\" /></svg><line stroke=\"black\" x1=\"50%\" x2=\"96.25%\" y1=\"1.2em\" y2=\"3em\" /></svg>"
      ],
      "text/plain": [
       "Tree('S', [('*', 'NN'), Tree('VP', [('she', 'PRP'), ('didn', 'VBZ')]), ('’', 'JJ'), ('t', 'NNS'), ('answer', 'VBP'), Tree('VP', [('him', 'PRP')]), ('.', '.')])"
      ]
     },
     "execution_count": 17,
     "metadata": {},
     "output_type": "execute_result"
    }
   ],
   "source": [
    "grammar_vp = r\"VP: {<PRP>?<VB|VBD|VBZ|VBG>*<RB|RBR>?}\"\n",
    "parser2 = nltk.RegexpParser(grammar_vp)\n",
    "list2 = list1\n",
    "list_tokens2 = nltk.pos_tag(word_tokenize(list2))\n",
    "list_tokens2\n",
    "result2 = parser2.parse(list_tokens2)\n",
    "result2"
   ]
  },
  {
   "cell_type": "code",
   "execution_count": null,
   "id": "cf427f3c-21eb-4329-b73c-aa396e1328ad",
   "metadata": {},
   "outputs": [],
   "source": []
  }
 ],
 "metadata": {
  "kernelspec": {
   "display_name": "Python 3 (ipykernel)",
   "language": "python",
   "name": "python3"
  },
  "language_info": {
   "codemirror_mode": {
    "name": "ipython",
    "version": 3
   },
   "file_extension": ".py",
   "mimetype": "text/x-python",
   "name": "python",
   "nbconvert_exporter": "python",
   "pygments_lexer": "ipython3",
   "version": "3.10.6"
  }
 },
 "nbformat": 4,
 "nbformat_minor": 5
}
